{
 "cells": [
  {
   "cell_type": "code",
   "execution_count": 1,
   "metadata": {},
   "outputs": [],
   "source": [
    "import matplotlib.pyplot as plt\n",
    "import pandas as pd\n",
    "import numpy as np "
   ]
  },
  {
   "cell_type": "code",
   "execution_count": 2,
   "metadata": {},
   "outputs": [],
   "source": [
    "data=pd.read_csv(r'D:\\ESPRIT\\4DS\\Pi_Ds\\FeaturesExtraction\\Data\\amine_final.csv')"
   ]
  },
  {
   "cell_type": "code",
   "execution_count": 3,
   "metadata": {},
   "outputs": [
    {
     "data": {
      "image/png": "[encoded data removed]",
      "text/plain": [
       "<Figure size 432x288 with 1 Axes>"
      ]
     },
     "metadata": {},
     "output_type": "display_data"
    }
   ],
   "source": [
    "data['Tag'].value_counts().plot.pie(autopct='%.1f%%',labels=['epilepsy','no_epilepsy'],fontsize=13)\n",
    "plt.show()"
   ]
  },
  {
   "cell_type": "code",
   "execution_count": 4,
   "metadata": {},
   "outputs": [],
   "source": [
    "ds=data[['0_Absolute energy','0_Area under the curve','0_Autocorrelation','0_Centroid','0_Entropy','0_HFD','0_Mean absolute diff','0_Mean diff','0_Median absolute diff','0_Median diff','0_Negative turning points','0_Neighbourhood peaks','0_PFD','0_Peak to peak distance','0_Positive turning points','0_SPECTRAL_ENTROPY','0_SVD_ENTROPY','0_Signal distance','0_Slope','0_Sum absolute diff','0_Total energy','0_Zero crossing rate','Tag']]"
   ]
  },
  {
   "cell_type": "code",
   "execution_count": 5,
   "metadata": {},
   "outputs": [],
   "source": [
    "encode = ({'no_epilepsy': 0, 'epilepsy': 1} )\n",
    "df_encoded = ds.replace(encode)"
   ]
  },
  {
   "cell_type": "code",
   "execution_count": 6,
   "metadata": {},
   "outputs": [
    {
     "name": "stdout",
     "output_type": "stream",
     "text": [
      "(506637, 22)\n",
      "(506637,)\n"
     ]
    }
   ],
   "source": [
    "X=df_encoded.iloc[:,:-1]\n",
    "Y=df_encoded.iloc[:,-1]\n",
    "print(X.shape)\n",
    "print(Y.shape)"
   ]
  },
  {
   "cell_type": "code",
   "execution_count": 7,
   "metadata": {},
   "outputs": [],
   "source": [
    "from imblearn.over_sampling import RandomOverSampler\n",
    "from imblearn.under_sampling import ClusterCentroids\n",
    "clusters = RandomOverSampler(sampling_strategy='minority',random_state =1)#RandomOverSampler => pour le oversampling\n",
    "clusters.fit(X,Y)\n",
    "X_Sampled,Y_Sampled = clusters.fit_resample(X,Y)"
   ]
  },
  {
   "cell_type": "code",
   "execution_count": 8,
   "metadata": {},
   "outputs": [
    {
     "data": {
      "text/plain": [
       "((629145, 22),\n",
       " (209715, 22),\n",
       " 742758    0\n",
       " 576531    0\n",
       " 85316     1\n",
       " 315341    1\n",
       " 418388    1\n",
       "          ..\n",
       " 491263    0\n",
       " 791624    0\n",
       " 470924    0\n",
       " 491755    0\n",
       " 128037    1\n",
       " Name: Tag, Length: 629145, dtype: int64,\n",
       " 804502    0\n",
       " 793815    0\n",
       " 64656     1\n",
       " 761135    0\n",
       " 158110    1\n",
       "          ..\n",
       " 673607    0\n",
       " 135128    1\n",
       " 264601    1\n",
       " 402938    1\n",
       " 811773    0\n",
       " Name: Tag, Length: 209715, dtype: int64)"
      ]
     },
     "execution_count": 8,
     "metadata": {},
     "output_type": "execute_result"
    }
   ],
   "source": [
    "from sklearn.model_selection import train_test_split\n",
    "X_train,X_test,y_train,y_test=train_test_split(X_Sampled,Y_Sampled,test_size=0.25,random_state=1)\n",
    "X_train.shape, X_test.shape,y_train ,y_test "
   ]
  },
  {
   "cell_type": "code",
   "execution_count": 9,
   "metadata": {},
   "outputs": [],
   "source": [
    "from sklearn.preprocessing import StandardScaler\n",
    "scaler = StandardScaler()\n",
    "scaler.fit(X_train)\n",
    "X_train = scaler.fit_transform(X_train)\n",
    "X_test = scaler.fit_transform(X_test)"
   ]
  },
  {
   "cell_type": "code",
   "execution_count": 10,
   "metadata": {},
   "outputs": [
    {
     "name": "stdout",
     "output_type": "stream",
     "text": [
      "[-1.76183021e-17 -3.48074404e-17 -3.92571911e-17 -3.50559037e-17\n",
      " -6.26375815e-16 -6.63374249e-16 -2.70373175e-17 -2.98155882e-18\n",
      "  1.72794886e-17  4.15046540e-18 -3.10014354e-16  2.82615636e-16\n",
      "  1.08440649e-14 -1.58000030e-17 -1.03552700e-16 -3.33166610e-17\n",
      "  9.61259080e-16 -1.43076198e-10  1.69406751e-18 -1.66018616e-17\n",
      "  3.44234518e-17 -4.00251684e-17]\n",
      "[1. 1. 1. 1. 1. 1. 1. 1. 1. 1. 1. 1. 1. 1. 1. 1. 1. 1. 1. 1. 1. 1.]\n"
     ]
    }
   ],
   "source": [
    "#vérification_Centrage Réduction \n",
    "import numpy as np\n",
    "#moyenne\n",
    "print(np.mean(X_train,axis=0))\n",
    "#écart-type\n",
    "print(np.std(X_test,axis=0,ddof=0))"
   ]
  },
  {
   "cell_type": "markdown",
   "metadata": {},
   "source": [
    "# Noyeau polynomial"
   ]
  },
  {
   "cell_type": "code",
   "execution_count": 11,
   "metadata": {},
   "outputs": [
    {
     "name": "stdout",
     "output_type": "stream",
     "text": [
      "[[80146 24733]\n",
      " [15073 89763]]\n",
      "              precision    recall  f1-score   support\n",
      "\n",
      "           0       0.84      0.76      0.80    104879\n",
      "           1       0.78      0.86      0.82    104836\n",
      "\n",
      "    accuracy                           0.81    209715\n",
      "   macro avg       0.81      0.81      0.81    209715\n",
      "weighted avg       0.81      0.81      0.81    209715\n",
      "\n"
     ]
    }
   ],
   "source": [
    "from sklearn.svm import SVC \n",
    "from sklearn.metrics import classification_report,confusion_matrix \n",
    "model =SVC(kernel='poly',degree=3)\n",
    "model.fit(X_train,y_train)\n",
    "y_pred=model.predict(X_test)\n",
    "print(confusion_matrix(y_test,y_pred))\n",
    "print(classification_report(y_test,y_pred))"
   ]
  },
  {
   "cell_type": "markdown",
   "metadata": {},
   "source": [
    "# Noyeau Gaussien RBF"
   ]
  },
  {
   "cell_type": "code",
   "execution_count": 12,
   "metadata": {},
   "outputs": [],
   "source": [
    "# from sklearn.model_selection import GridSearchCV \n",
    "  \n",
    "# # defining parameter range \n",
    "# param_grid = {'C': [0.1, 1, 10, 100, 1000],  \n",
    "#               'gamma': [1, 10, 100, 1000,10000], \n",
    "#               'kernel': ['rbf']}  \n",
    "  \n",
    "# grid = GridSearchCV(SVC(), param_grid, refit = True) \n",
    "  \n",
    "# # fitting the model for grid search \n",
    "# grid.fit(X_train, y_train)"
   ]
  },
  {
   "cell_type": "code",
   "execution_count": 13,
   "metadata": {},
   "outputs": [
    {
     "name": "stdout",
     "output_type": "stream",
     "text": [
      "[[95009  9870]\n",
      " [16868 87968]]\n",
      "              precision    recall  f1-score   support\n",
      "\n",
      "           0       0.85      0.91      0.88    104879\n",
      "           1       0.90      0.84      0.87    104836\n",
      "\n",
      "    accuracy                           0.87    209715\n",
      "   macro avg       0.87      0.87      0.87    209715\n",
      "weighted avg       0.87      0.87      0.87    209715\n",
      "\n"
     ]
    }
   ],
   "source": [
    "from sklearn.svm import SVC \n",
    "from sklearn.metrics import classification_report,confusion_matrix \n",
    "model2 =SVC(kernel='rbf')\n",
    "model2.fit(X_train,y_train)\n",
    "y_pred2=model2.predict(X_test)\n",
    "print(confusion_matrix(y_test,y_pred2))\n",
    "print(classification_report(y_test,y_pred2))"
   ]
  },
  {
   "cell_type": "markdown",
   "metadata": {},
   "source": [
    "# Noyeau Sigmoide"
   ]
  },
  {
   "cell_type": "code",
   "execution_count": 15,
   "metadata": {},
   "outputs": [
    {
     "name": "stdout",
     "output_type": "stream",
     "text": [
      "              precision    recall  f1-score   support\n",
      "\n",
      "           0       0.61      0.61      0.61    104461\n",
      "           1       0.61      0.61      0.61    105254\n",
      "\n",
      "    accuracy                           0.61    209715\n",
      "   macro avg       0.61      0.61      0.61    209715\n",
      "weighted avg       0.61      0.61      0.61    209715\n",
      "\n"
     ]
    }
   ],
   "source": [
    "# Kernel sigmoid\n",
    "model3 = SVC(kernel=\"sigmoid\")\n",
    "model3.fit(X_train, y_train)\n",
    "# from sklearn.metrics import classification_report\n",
    "y_pred_svc_3 = model3.predict(X_test)\n",
    "print(classification_report(y_pred_svc_3, y_test))"
   ]
  },
  {
   "cell_type": "code",
   "execution_count": 17,
   "metadata": {},
   "outputs": [
    {
     "data": {
      "text/html": [
       "<div>\n",
       "<style scoped>\n",
       "    .dataframe tbody tr th:only-of-type {\n",
       "        vertical-align: middle;\n",
       "    }\n",
       "\n",
       "    .dataframe tbody tr th {\n",
       "        vertical-align: top;\n",
       "    }\n",
       "\n",
       "    .dataframe thead th {\n",
       "        text-align: right;\n",
       "    }\n",
       "</style>\n",
       "<table border=\"1\" class=\"dataframe\">\n",
       "  <thead>\n",
       "    <tr style=\"text-align: right;\">\n",
       "      <th></th>\n",
       "      <th>Model</th>\n",
       "      <th>Score</th>\n",
       "    </tr>\n",
       "  </thead>\n",
       "  <tbody>\n",
       "    <tr>\n",
       "      <th>1</th>\n",
       "      <td>Support Vector Machines RBF</td>\n",
       "      <td>0.872503</td>\n",
       "    </tr>\n",
       "    <tr>\n",
       "      <th>0</th>\n",
       "      <td>Support Vector Machines polynomiale</td>\n",
       "      <td>0.810190</td>\n",
       "    </tr>\n",
       "    <tr>\n",
       "      <th>2</th>\n",
       "      <td>Support Vector Machines sigmoïde</td>\n",
       "      <td>0.609794</td>\n",
       "    </tr>\n",
       "  </tbody>\n",
       "</table>\n",
       "</div>"
      ],
      "text/plain": [
       "                                 Model     Score\n",
       "1          Support Vector Machines RBF  0.872503\n",
       "0  Support Vector Machines polynomiale  0.810190\n",
       "2     Support Vector Machines sigmoïde  0.609794"
      ]
     },
     "execution_count": 17,
     "metadata": {},
     "output_type": "execute_result"
    }
   ],
   "source": [
    "from sklearn.metrics import accuracy_score\n",
    "from sklearn.metrics import recall_score\n",
    "from sklearn.metrics import precision_score\n",
    "from sklearn.metrics import f1_score\n",
    "# On va afficher un tableau qui ordonne les modèles du plus performant au moins performant suivant le score\n",
    "\n",
    "s1=accuracy_score(y_test, y_pred)\n",
    "s2=accuracy_score(y_test, y_pred2)\n",
    "s3=accuracy_score(y_test, y_pred_svc_3)\n",
    "\n",
    "models = pd.DataFrame({\n",
    "    'Model': ['Support Vector Machines polynomiale','Support Vector Machines RBF', \n",
    "              'Support Vector Machines sigmoïde'],\n",
    "    'Score': [s1,s2, s3 \n",
    "              ]})\n",
    "models.sort_values(by=\"Score\",ascending=False)"
   ]
  },
  {
   "cell_type": "code",
   "execution_count": null,
   "metadata": {},
   "outputs": [],
   "source": []
  }
 ],
 "metadata": {
  "kernelspec": {
   "display_name": "Python 3",
   "language": "python",
   "name": "python3"
  },
  "language_info": {
   "codemirror_mode": {
    "name": "ipython",
    "version": 3
   },
   "file_extension": ".py",
   "mimetype": "text/x-python",
   "name": "python",
   "nbconvert_exporter": "python",
   "pygments_lexer": "ipython3",
   "version": "3.8.5"
  }
 },
 "nbformat": 4,
 "nbformat_minor": 4
}
