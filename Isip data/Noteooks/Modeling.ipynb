{
 "cells": [
  {
   "cell_type": "markdown",
   "metadata": {},
   "source": [
    "# Load Data"
   ]
  },
  {
   "cell_type": "code",
   "execution_count": 1,
   "metadata": {},
   "outputs": [],
   "source": [
    "import pandas as pd\n",
    "import numpy as np\n",
    "import matplotlib\n",
    "import matplotlib.pyplot as plt\n",
    "import os\n",
    "import pickle\n"
   ]
  },
  {
   "cell_type": "code",
   "execution_count": null,
   "metadata": {},
   "outputs": [],
   "source": []
  },
  {
   "cell_type": "code",
   "execution_count": 2,
   "metadata": {},
   "outputs": [],
   "source": [
    "def load_filtred_files(path): \n",
    "    fichiers=[] \n",
    "    for dirname, _, filenames in os.walk(path): \n",
    "        for filename in filenames: \n",
    "            fichiers.append(os.path.join(dirname, filename)) \n",
    "    files=[]\n",
    "    for f in fichiers:\n",
    "        if f.endswith(\".npy\"):\n",
    "            files.append(f)\n",
    "    \n",
    "    return files"
   ]
  },
  {
   "cell_type": "code",
   "execution_count": 3,
   "metadata": {},
   "outputs": [],
   "source": [
    "path1=r\"C:\\Users\\21655\\Desktop\\Semestre2\\Projet DS\\data\\edf\\epilepsy\\01_tcp_ar\"\n",
    "path2=r\"C:\\Users\\21655\\Desktop\\Semestre2\\Projet DS\\data\\edf\\no_epilepsy\\01_tcp_ar\"\n",
    "epilepsy_filtred_files=load_filtred_files(path1)\n",
    "no_epilepsy_filtred_files=load_filtred_files(path2)"
   ]
  },
  {
   "cell_type": "code",
   "execution_count": 4,
   "metadata": {},
   "outputs": [],
   "source": [
    "def get_id(path,patient):\n",
    "    if patient == 'epilepsy':\n",
    "        id_p=path[75:len(path)-39]\n",
    "    else:\n",
    "        id_p=path[78:len(path)-39]\n",
    "    return id_p"
   ]
  },
  {
   "cell_type": "code",
   "execution_count": 5,
   "metadata": {},
   "outputs": [],
   "source": [
    "filtred_files = []\n",
    "\n",
    "for i in epilepsy_filtred_files:\n",
    "    filtred_files.append([i,'epilepsy',get_id(i,'epilepsy')])\n",
    "        \n",
    "for i in no_epilepsy_filtred_files:\n",
    "    filtred_files.append([i,'no_epilepsy',get_id(i,'no_epilepsy')])"
   ]
  },
  {
   "cell_type": "markdown",
   "metadata": {},
   "source": [
    "# Prepare the data"
   ]
  },
  {
   "cell_type": "code",
   "execution_count": 6,
   "metadata": {},
   "outputs": [
    {
     "data": {
      "text/plain": [
       "'C:\\\\Users\\\\21655\\\\Desktop\\\\Semestre2\\\\Projet DS\\\\data\\\\edf\\\\epilepsy\\\\01_tcp_ar\\\\003\\\\00000355\\\\s003_2013_01_04\\\\00000355_s003_t000.npy'"
      ]
     },
     "execution_count": 6,
     "metadata": {},
     "output_type": "execute_result"
    }
   ],
   "source": [
    "filtred_files[0][0]"
   ]
  },
  {
   "cell_type": "code",
   "execution_count": 7,
   "metadata": {},
   "outputs": [],
   "source": [
    "rd=np.load(filtred_files[0][0])"
   ]
  },
  {
   "cell_type": "code",
   "execution_count": 8,
   "metadata": {},
   "outputs": [
    {
     "data": {
      "text/plain": [
       "(21, 331250)"
      ]
     },
     "execution_count": 8,
     "metadata": {},
     "output_type": "execute_result"
    }
   ],
   "source": [
    "rd.shape"
   ]
  },
  {
   "cell_type": "code",
   "execution_count": 9,
   "metadata": {},
   "outputs": [
    {
     "data": {
      "text/plain": [
       "array([[ 0.00000000e+00,  0.00000000e+00,  1.89243836e-06, ...,\n",
       "         3.49999977e-09,  3.49999979e-09,  3.49999981e-09],\n",
       "       [ 0.00000000e+00,  0.00000000e+00,  1.26682850e-06, ...,\n",
       "         3.49999975e-09,  3.49999978e-09,  3.49999980e-09],\n",
       "       [ 0.00000000e+00,  0.00000000e+00, -4.57413314e-07, ...,\n",
       "         3.50000007e-09,  3.50000006e-09,  3.50000006e-09],\n",
       "       ...,\n",
       "       [ 0.00000000e+00,  0.00000000e+00,  7.63288856e-07, ...,\n",
       "         3.49999987e-09,  3.49999988e-09,  3.49999990e-09],\n",
       "       [ 0.00000000e+00,  0.00000000e+00, -2.89566765e-07, ...,\n",
       "         3.50000001e-09,  3.50000001e-09,  3.50000001e-09],\n",
       "       [ 0.00000000e+00,  0.00000000e+00, -1.17457584e-06, ...,\n",
       "         3.50000000e-09,  3.50000000e-09,  3.50000000e-09]])"
      ]
     },
     "execution_count": 9,
     "metadata": {},
     "output_type": "execute_result"
    }
   ],
   "source": [
    "rd"
   ]
  },
  {
   "cell_type": "code",
   "execution_count": 10,
   "metadata": {},
   "outputs": [],
   "source": [
    "import math\n",
    "win_size = 5000\n",
    "dt_length = math.floor (rd.shape[1] / win_size)"
   ]
  },
  {
   "cell_type": "code",
   "execution_count": 11,
   "metadata": {},
   "outputs": [],
   "source": [
    "data=[]\n",
    "for i in range(dt_length):\n",
    "    data.append (rd[:, i*win_size : i*win_size+win_size])"
   ]
  },
  {
   "cell_type": "code",
   "execution_count": 12,
   "metadata": {},
   "outputs": [
    {
     "data": {
      "text/plain": [
       "66"
      ]
     },
     "execution_count": 12,
     "metadata": {},
     "output_type": "execute_result"
    }
   ],
   "source": [
    "len(data)"
   ]
  },
  {
   "cell_type": "code",
   "execution_count": 13,
   "metadata": {},
   "outputs": [
    {
     "data": {
      "text/plain": [
       "5000"
      ]
     },
     "execution_count": 13,
     "metadata": {},
     "output_type": "execute_result"
    }
   ],
   "source": [
    "data[0][0].shape[0]"
   ]
  },
  {
   "cell_type": "code",
   "execution_count": 14,
   "metadata": {},
   "outputs": [
    {
     "data": {
      "text/plain": [
       "array([[ 0.00000000e+00,  0.00000000e+00,  1.89243836e-06, ...,\n",
       "        -3.23800121e-05, -3.19950522e-05, -3.14502242e-05],\n",
       "       [ 0.00000000e+00,  0.00000000e+00,  1.26682850e-06, ...,\n",
       "        -3.01031307e-05, -2.96254246e-05, -2.87529846e-05],\n",
       "       [ 0.00000000e+00,  0.00000000e+00, -4.57413314e-07, ...,\n",
       "        -9.04695686e-06, -9.05743780e-06, -9.15842331e-06],\n",
       "       ...,\n",
       "       [ 0.00000000e+00,  0.00000000e+00,  7.63288856e-07, ...,\n",
       "        -1.41663934e-05, -1.39701062e-05, -1.37171539e-05],\n",
       "       [ 0.00000000e+00,  0.00000000e+00, -2.89566765e-07, ...,\n",
       "        -4.77776491e-06, -4.60481396e-06, -4.57122832e-06],\n",
       "       [ 0.00000000e+00,  0.00000000e+00, -1.17457584e-06, ...,\n",
       "        -3.24158146e-06, -3.16121375e-06, -3.21095303e-06]])"
      ]
     },
     "execution_count": 14,
     "metadata": {},
     "output_type": "execute_result"
    }
   ],
   "source": [
    "data[0]"
   ]
  },
  {
   "cell_type": "code",
   "execution_count": 15,
   "metadata": {},
   "outputs": [
    {
     "data": {
      "text/plain": [
       "(21, 5000)"
      ]
     },
     "execution_count": 15,
     "metadata": {},
     "output_type": "execute_result"
    }
   ],
   "source": [
    "data[0].shape"
   ]
  },
  {
   "cell_type": "code",
   "execution_count": 16,
   "metadata": {},
   "outputs": [
    {
     "data": {
      "text/plain": [
       "array([[ 0.00000000e+00],\n",
       "       [ 0.00000000e+00],\n",
       "       [ 1.89243836e-06],\n",
       "       ...,\n",
       "       [-3.24158146e-06],\n",
       "       [-3.16121375e-06],\n",
       "       [-3.21095303e-06]])"
      ]
     },
     "execution_count": 16,
     "metadata": {},
     "output_type": "execute_result"
    }
   ],
   "source": [
    "data[0].reshape(-1,1)"
   ]
  },
  {
   "cell_type": "code",
   "execution_count": 17,
   "metadata": {},
   "outputs": [],
   "source": [
    "X = []\n",
    "for j in range(dt_length):\n",
    "    X.append (data[j].reshape(-1,1))"
   ]
  },
  {
   "cell_type": "code",
   "execution_count": 18,
   "metadata": {},
   "outputs": [
    {
     "data": {
      "text/plain": [
       "(105000, 1)"
      ]
     },
     "execution_count": 18,
     "metadata": {},
     "output_type": "execute_result"
    }
   ],
   "source": [
    "X[0].shape"
   ]
  },
  {
   "cell_type": "code",
   "execution_count": 19,
   "metadata": {},
   "outputs": [
    {
     "data": {
      "text/plain": [
       "66"
      ]
     },
     "execution_count": 19,
     "metadata": {},
     "output_type": "execute_result"
    }
   ],
   "source": [
    "len(X)"
   ]
  },
  {
   "cell_type": "code",
   "execution_count": 20,
   "metadata": {},
   "outputs": [],
   "source": [
    "#Window size * # of electrode channels gives us number of features - input to the NN\n",
    "\n",
    "win_size = 5000 # 20s can be changed\n",
    "\n",
    "\n",
    "def prepX (fname,tag):\n",
    "    \n",
    "    dt_length = 0\n",
    "    rm=np.load(fname)\n",
    "    \n",
    "    if tag=='no_epilepsy':\n",
    "        \n",
    "        rd=rm\n",
    "        dt_length = math.floor (rd.shape[1] / win_size)\n",
    "        Y = [0] * dt_length\n",
    "        \n",
    "    else:\n",
    "\n",
    "        rd=rm\n",
    "        dt_length = math.floor (rd.shape[1] / win_size)\n",
    "        Y = [1] * dt_length\n",
    "    \n",
    "\n",
    "    data=[]\n",
    "    for i in range(dt_length):\n",
    "        data.append (rd[:, i*win_size : i*win_size+win_size])\n",
    "       \n",
    "        \n",
    "    X = []\n",
    "    for j in range(dt_length):\n",
    "        X.append (data[j].reshape(-1,1))\n",
    "\n",
    "        \n",
    "    return X, Y"
   ]
  },
  {
   "cell_type": "code",
   "execution_count": 21,
   "metadata": {},
   "outputs": [],
   "source": [
    "from random import shuffle\n",
    "import pickle"
   ]
  },
  {
   "cell_type": "code",
   "execution_count": 22,
   "metadata": {},
   "outputs": [
    {
     "data": {
      "text/plain": [
       "'C:\\\\Users\\\\21655\\\\Desktop\\\\Semestre2\\\\Projet DS\\\\data\\\\edf\\\\epilepsy\\\\01_tcp_ar\\\\003\\\\00000355\\\\s003_2013_01_04\\\\00000355_s003_t000.npy'"
      ]
     },
     "execution_count": 22,
     "metadata": {},
     "output_type": "execute_result"
    }
   ],
   "source": [
    "filtred_files[0][0]"
   ]
  },
  {
   "cell_type": "code",
   "execution_count": null,
   "metadata": {},
   "outputs": [],
   "source": [
    "#This part takes a while\n",
    "from random import shuffle\n",
    "import pickle\n",
    "\n",
    "fns  = []\n",
    "\n",
    "fns=filtred_files\n",
    "shuffle(fns)\n",
    "\n",
    "for i in range(len(fns)):\n",
    "    print(fns[i])\n",
    "    X_f, Y_f = prepX(fns[i][0],fns[i][1])\n",
    "\n",
    "    \n",
    "    dbfile = open(\"C:\\\\Users\\\\21655\\\\Desktop\\\\Projet\\\\Processed_Data\\\\\" + fns[i][0][-22:-4], 'wb')\n",
    "      \n",
    "    # pickle the preproced data\n",
    "    pickle.dump([X_f, Y_f], dbfile)                   \n",
    "    dbfile.close()"
   ]
  },
  {
   "cell_type": "code",
   "execution_count": null,
   "metadata": {},
   "outputs": [],
   "source": []
  },
  {
   "cell_type": "code",
   "execution_count": null,
   "metadata": {},
   "outputs": [],
   "source": []
  },
  {
   "cell_type": "markdown",
   "metadata": {},
   "source": [
    "## Get the preprocessed data and feed into the model\n"
   ]
  },
  {
   "cell_type": "code",
   "execution_count": 23,
   "metadata": {},
   "outputs": [],
   "source": [
    "prep_files = [fn for fn in os.listdir(\"C:\\\\Users\\\\21655\\\\Desktop\\\\Projet\\\\Processed_Data\\\\\")]\n",
    "#prep_files"
   ]
  },
  {
   "cell_type": "code",
   "execution_count": 24,
   "metadata": {},
   "outputs": [],
   "source": [
    "shuffle(prep_files)"
   ]
  },
  {
   "cell_type": "code",
   "execution_count": 25,
   "metadata": {},
   "outputs": [],
   "source": [
    "#prep_files"
   ]
  },
  {
   "cell_type": "code",
   "execution_count": 26,
   "metadata": {},
   "outputs": [],
   "source": [
    "#Splitting into train/test sets\n",
    "from sklearn.model_selection import train_test_split\n",
    "\n",
    "Prep_train,Prep_test = train_test_split(prep_files, test_size=0.2,random_state=42)\n"
   ]
  },
  {
   "cell_type": "code",
   "execution_count": 27,
   "metadata": {},
   "outputs": [
    {
     "data": {
      "text/plain": [
       "1001"
      ]
     },
     "execution_count": 27,
     "metadata": {},
     "output_type": "execute_result"
    }
   ],
   "source": [
    "len(Prep_train)"
   ]
  },
  {
   "cell_type": "code",
   "execution_count": 28,
   "metadata": {},
   "outputs": [
    {
     "data": {
      "text/plain": [
       "251"
      ]
     },
     "execution_count": 28,
     "metadata": {},
     "output_type": "execute_result"
    }
   ],
   "source": [
    "len(Prep_test)"
   ]
  },
  {
   "cell_type": "markdown",
   "metadata": {},
   "source": [
    "# LSTM 1"
   ]
  },
  {
   "cell_type": "code",
   "execution_count": 30,
   "metadata": {},
   "outputs": [],
   "source": [
    "def batch_generator(prep_files,batch_size,steps):\n",
    "    \n",
    "    idx=1\n",
    "    while True: \n",
    "        yield load_data(prep_files,idx-1,batch_size)## Yields data\n",
    "        if idx<steps:\n",
    "            idx+=1\n",
    "        else:\n",
    "            idx=1"
   ]
  },
  {
   "cell_type": "code",
   "execution_count": null,
   "metadata": {},
   "outputs": [],
   "source": []
  },
  {
   "cell_type": "code",
   "execution_count": 31,
   "metadata": {},
   "outputs": [],
   "source": [
    "def load_data(prep_files,idx,batch_size):\n",
    "    \n",
    "    X_list = []\n",
    "    Y_list = []\n",
    "\n",
    "    for f in prep_files[idx*batch_size:idx*batch_size+batch_size]:\n",
    "\n",
    "        with open(\"C:\\\\Users\\\\21655\\\\Desktop\\\\Projet\\\\Processed_Data\\\\\" + f, 'rb') as f:\n",
    "            X_f, Y_f = pickle.load(f)\n",
    "            X_list.extend(X_f)\n",
    "            Y_list.extend(Y_f)\n",
    "            f.close()\n",
    "\n",
    "    X = np.asarray(X_list)\n",
    "    X = X.reshape(X.shape[0], X.shape[1])\n",
    "\n",
    "    Y = np.asarray(Y_list)\n",
    "    Y = Y.reshape(Y.shape[0],1)\n",
    "\n",
    "    #Normalizing the feature values (very important for NNs)\n",
    "    scaler = StandardScaler()\n",
    "    X = scaler.fit_transform(X)\n",
    "    \n",
    "    X = np.reshape(X, (X.shape[0],1,X.shape[1]))\n",
    "\n",
    "    return X,Y"
   ]
  },
  {
   "cell_type": "code",
   "execution_count": 32,
   "metadata": {},
   "outputs": [],
   "source": [
    "import sklearn.linear_model\n",
    "\n",
    "import sklearn.metrics\n",
    "from sklearn.preprocessing import StandardScaler"
   ]
  },
  {
   "cell_type": "code",
   "execution_count": 33,
   "metadata": {},
   "outputs": [
    {
     "name": "stdout",
     "output_type": "stream",
     "text": [
      "Model: \"sequential\"\n",
      "_________________________________________________________________\n",
      "Layer (type)                 Output Shape              Param #   \n",
      "=================================================================\n",
      "lstm (LSTM)                  (1, 4)                    1680080   \n",
      "_________________________________________________________________\n",
      "dense (Dense)                (1, 1)                    5         \n",
      "=================================================================\n",
      "Total params: 1,680,085\n",
      "Trainable params: 1,680,085\n",
      "Non-trainable params: 0\n",
      "_________________________________________________________________\n"
     ]
    }
   ],
   "source": [
    "## importing libraries\n",
    "import tensorflow as tf\n",
    "from tensorflow.keras import Sequential\n",
    "\n",
    "from tensorflow.keras.layers import Dense, Dropout\n",
    "from tensorflow.keras.layers import Embedding\n",
    "from tensorflow.keras.layers import LSTM\n",
    "tf.keras.backend.clear_session()\n",
    "\n",
    "# some model parameters\n",
    "output_dim = 2\n",
    "input_dim = 105000\n",
    "batch_size = 10 \n",
    "nb_epoch = 20\n",
    "steps_per_epoch=np.ceil(1001/batch_size)\n",
    "validation_steps=np.ceil(251/batch_size)\n",
    "\n",
    "### Generator objects for train and validation\n",
    "my_training_batch_generator = batch_generator(Prep_train, 10,steps_per_epoch)\n",
    "my_validation_batch_generator = batch_generator(Prep_test, 10,validation_steps)\n",
    "\n",
    "model = Sequential()\n",
    "model.add(LSTM(4, stateful=True, return_sequences=False,input_shape=(1,105000), batch_size=1))\n",
    "model.add(Dense(1, activation='sigmoid'))\n",
    "model.compile(loss='binary_crossentropy', optimizer='adam',  metrics = ['accuracy'])\n",
    "\n",
    "model.summary()"
   ]
  },
  {
   "cell_type": "code",
   "execution_count": 31,
   "metadata": {},
   "outputs": [
    {
     "name": "stderr",
     "output_type": "stream",
     "text": [
      "C:\\Users\\21655\\anaconda3\\lib\\site-packages\\tensorflow\\python\\keras\\engine\\training.py:1844: UserWarning: `Model.fit_generator` is deprecated and will be removed in a future version. Please use `Model.fit`, which supports generators.\n",
      "  warnings.warn('`Model.fit_generator` is deprecated and '\n"
     ]
    },
    {
     "name": "stdout",
     "output_type": "stream",
     "text": [
      "Epoch 1/10\n",
      "101/101 [==============================] - 929s 9s/step - loss: 0.2179 - accuracy: 0.8364 - val_loss: 0.1984 - val_accuracy: 0.8279\n",
      "Epoch 2/10\n",
      "101/101 [==============================] - 968s 10s/step - loss: 0.1888 - accuracy: 0.7766 - val_loss: 0.1961 - val_accuracy: 0.8293\n",
      "Epoch 3/10\n",
      "101/101 [==============================] - 747s 7s/step - loss: 0.1708 - accuracy: 0.8632 - val_loss: 0.1645 - val_accuracy: 0.8617\n",
      "Epoch 4/10\n",
      "101/101 [==============================] - 796s 8s/step - loss: 0.1589 - accuracy: 0.8662 - val_loss: 0.1606 - val_accuracy: 0.8617\n",
      "Epoch 5/10\n",
      "101/101 [==============================] - 761s 8s/step - loss: 0.1518 - accuracy: 0.8662 - val_loss: 0.1547 - val_accuracy: 0.8617\n",
      "Epoch 6/10\n",
      "101/101 [==============================] - 982s 10s/step - loss: 0.1507 - accuracy: 0.8662 - val_loss: 0.1505 - val_accuracy: 0.8617\n",
      "Epoch 7/10\n",
      "101/101 [==============================] - 783s 8s/step - loss: 0.1444 - accuracy: 0.8662 - val_loss: 0.1469 - val_accuracy: 0.8617\n",
      "Epoch 8/10\n",
      "101/101 [==============================] - 735s 7s/step - loss: 0.1431 - accuracy: 0.8656 - val_loss: 0.1432 - val_accuracy: 0.8617\n",
      "Epoch 9/10\n",
      "101/101 [==============================] - 862s 9s/step - loss: 0.1388 - accuracy: 0.8662 - val_loss: 0.1407 - val_accuracy: 0.8617\n",
      "Epoch 10/10\n",
      "101/101 [==============================] - 927s 9s/step - loss: 0.1357 - accuracy: 0.8662 - val_loss: 0.1382 - val_accuracy: 0.8617\n"
     ]
    },
    {
     "data": {
      "text/plain": [
       "<tensorflow.python.keras.callbacks.History at 0x2af930e8d08>"
      ]
     },
     "execution_count": 31,
     "metadata": {},
     "output_type": "execute_result"
    }
   ],
   "source": [
    "model.fit_generator(my_training_batch_generator,\n",
    "epochs=20,steps_per_epoch=steps_per_epoch,\n",
    " verbose=1, validation_data=my_validation_batch_generator, \n",
    "validation_steps=validation_steps)"
   ]
  },
  {
   "cell_type": "code",
   "execution_count": 32,
   "metadata": {},
   "outputs": [
    {
     "name": "stderr",
     "output_type": "stream",
     "text": [
      "WARNING:absl:Found untraced functions such as lstm_cell_layer_call_fn, lstm_cell_layer_call_and_return_conditional_losses, lstm_cell_layer_call_fn, lstm_cell_layer_call_and_return_conditional_losses, lstm_cell_layer_call_and_return_conditional_losses while saving (showing 5 of 5). These functions will not be directly callable after loading.\n",
      "WARNING:absl:Found untraced functions such as lstm_cell_layer_call_fn, lstm_cell_layer_call_and_return_conditional_losses, lstm_cell_layer_call_fn, lstm_cell_layer_call_and_return_conditional_losses, lstm_cell_layer_call_and_return_conditional_losses while saving (showing 5 of 5). These functions will not be directly callable after loading.\n"
     ]
    },
    {
     "name": "stdout",
     "output_type": "stream",
     "text": [
      "INFO:tensorflow:Assets written to: model_lsttm\\assets\n"
     ]
    },
    {
     "name": "stderr",
     "output_type": "stream",
     "text": [
      "INFO:tensorflow:Assets written to: model_lsttm\\assets\n"
     ]
    }
   ],
   "source": [
    "model.save('model_lsttm')"
   ]
  },
  {
   "cell_type": "code",
   "execution_count": null,
   "metadata": {},
   "outputs": [],
   "source": []
  },
  {
   "cell_type": "code",
   "execution_count": 34,
   "metadata": {},
   "outputs": [],
   "source": [
    "loaded_model = tf.keras.models.load_model(r\"C:\\Users\\21655\\Desktop\\Projet\\model_lsttm\")"
   ]
  },
  {
   "cell_type": "code",
   "execution_count": null,
   "metadata": {},
   "outputs": [],
   "source": [
    "loss,acc=loaded_model.evaluate_generator(my_validation_batch_generator)\n",
    "print(\"accuracy: {:5.2f}% \".format(100*acc))\n",
    "print(\"loss: {:5.2f}% \".format(100*loss))"
   ]
  },
  {
   "cell_type": "markdown",
   "metadata": {},
   "source": [
    "# LSTM 1-1"
   ]
  },
  {
   "cell_type": "code",
   "execution_count": 29,
   "metadata": {},
   "outputs": [],
   "source": [
    "def batch_generator(prep_files,batch_size,steps):\n",
    "    \n",
    "    idx=1\n",
    "    while True: \n",
    "        yield load_data(prep_files,idx-1,batch_size)## Yields data\n",
    "        if idx<steps:\n",
    "            idx+=1\n",
    "        else:\n",
    "            idx=1"
   ]
  },
  {
   "cell_type": "code",
   "execution_count": null,
   "metadata": {},
   "outputs": [],
   "source": []
  },
  {
   "cell_type": "code",
   "execution_count": 39,
   "metadata": {},
   "outputs": [],
   "source": [
    "def load_data(prep_files,idx,batch_size):\n",
    "    \n",
    "    X_list = []\n",
    "    Y_list = []\n",
    "\n",
    "    for f in prep_files[idx*batch_size:idx*batch_size+batch_size]:\n",
    "\n",
    "        with open(\"C:\\\\Users\\\\21655\\\\Desktop\\\\Projet\\\\Processed_Data\\\\\" + f, 'rb') as f:\n",
    "            X_f, Y_f = pickle.load(f)\n",
    "            X_list.extend(X_f)\n",
    "            Y_list.extend(Y_f)\n",
    "            f.close()\n",
    "\n",
    "    X = np.asarray(X_list)\n",
    "    X = X.reshape(X.shape[0], X.shape[1])\n",
    "\n",
    "    Y = np.asarray(Y_list)\n",
    "    Y = Y.reshape(Y.shape[0],1)\n",
    "\n",
    "    #Normalizing the feature values (very important for NNs)\n",
    "    scaler = StandardScaler()\n",
    "    X = scaler.fit_transform(X)\n",
    "    \n",
    "    X = np.reshape(X, (X.shape[0],1,X.shape[1]))\n",
    "    \n",
    "    #Y = to_categorical(Y)\n",
    "\n",
    "    return X,Y"
   ]
  },
  {
   "cell_type": "code",
   "execution_count": 31,
   "metadata": {},
   "outputs": [],
   "source": [
    "import sklearn.linear_model\n",
    "\n",
    "import sklearn.metrics\n",
    "from sklearn.preprocessing import StandardScaler\n",
    "from keras.utils import to_categorical"
   ]
  },
  {
   "cell_type": "code",
   "execution_count": 40,
   "metadata": {},
   "outputs": [
    {
     "name": "stdout",
     "output_type": "stream",
     "text": [
      "Model: \"sequential\"\n",
      "_________________________________________________________________\n",
      "Layer (type)                 Output Shape              Param #   \n",
      "=================================================================\n",
      "lstm (LSTM)                  (None, 4)                 1680080   \n",
      "_________________________________________________________________\n",
      "dense (Dense)                (None, 1)                 5         \n",
      "=================================================================\n",
      "Total params: 1,680,085\n",
      "Trainable params: 1,680,085\n",
      "Non-trainable params: 0\n",
      "_________________________________________________________________\n"
     ]
    }
   ],
   "source": [
    "## importing libraries\n",
    "import tensorflow as tf\n",
    "from tensorflow.keras import Sequential\n",
    "\n",
    "from tensorflow.keras.layers import Dense, Dropout\n",
    "from tensorflow.keras.layers import Embedding\n",
    "from tensorflow.keras.layers import LSTM\n",
    "tf.keras.backend.clear_session()\n",
    "\n",
    "# some model parameters\n",
    "output_dim = 2\n",
    "input_dim = 105000\n",
    "batch_size = 10 \n",
    "nb_epoch = 20\n",
    "steps_per_epoch=np.ceil(1001/batch_size)\n",
    "validation_steps=np.ceil(251/batch_size)\n",
    "\n",
    "### Generator objects for train and validation\n",
    "my_training_batch_generator = batch_generator(Prep_train, 10,steps_per_epoch)\n",
    "my_validation_batch_generator = batch_generator(Prep_test, 10,validation_steps)\n",
    "\n",
    "model = Sequential()\n",
    "model.add(LSTM(4,activation='relu', return_sequences=False,input_shape=(1,105000)))\n",
    "model.add(Dense(1, activation='sigmoid'))\n",
    "model.compile(loss='binary_crossentropy', optimizer='adam',  metrics = ['accuracy'])\n",
    "\n",
    "model.summary()"
   ]
  },
  {
   "cell_type": "code",
   "execution_count": 41,
   "metadata": {},
   "outputs": [
    {
     "name": "stdout",
     "output_type": "stream",
     "text": [
      "Epoch 1/20\n",
      "101/101 [==============================] - 950s 9s/step - loss: 0.5638 - accuracy: 0.8527 - val_loss: 0.6118 - val_accuracy: 0.7892\n",
      "Epoch 2/20\n",
      "101/101 [==============================] - 1295s 13s/step - loss: 0.4549 - accuracy: 0.8552 - val_loss: 0.5505 - val_accuracy: 0.7892\n",
      "Epoch 3/20\n",
      "101/101 [==============================] - 1156s 12s/step - loss: 0.4095 - accuracy: 0.8552 - val_loss: 0.6031 - val_accuracy: 0.7892\n",
      "Epoch 4/20\n",
      "101/101 [==============================] - 892s 9s/step - loss: 0.3997 - accuracy: 0.8552 - val_loss: 0.8373 - val_accuracy: 0.7892\n",
      "Epoch 5/20\n",
      "101/101 [==============================] - 892s 9s/step - loss: 0.3863 - accuracy: 0.8552 - val_loss: 0.8269 - val_accuracy: 0.7892\n",
      "Epoch 6/20\n",
      "101/101 [==============================] - 931s 9s/step - loss: 0.3776 - accuracy: 0.8552 - val_loss: 0.8021 - val_accuracy: 0.7892\n",
      "Epoch 7/20\n",
      "101/101 [==============================] - 836s 8s/step - loss: 0.3753 - accuracy: 0.8552 - val_loss: 0.8307 - val_accuracy: 0.7892\n",
      "Epoch 8/20\n",
      "101/101 [==============================] - 892s 9s/step - loss: 0.3717 - accuracy: 0.8552 - val_loss: 0.9199 - val_accuracy: 0.7892\n",
      "Epoch 9/20\n",
      "101/101 [==============================] - 890s 9s/step - loss: 0.3466 - accuracy: 0.8552 - val_loss: 0.8754 - val_accuracy: 0.7892\n",
      "Epoch 10/20\n",
      "101/101 [==============================] - 892s 9s/step - loss: 0.3645 - accuracy: 0.8552 - val_loss: 0.7003 - val_accuracy: 0.7892\n",
      "Epoch 11/20\n",
      "101/101 [==============================] - 970s 10s/step - loss: 0.3465 - accuracy: 0.8552 - val_loss: 0.6750 - val_accuracy: 0.7892\n",
      "Epoch 12/20\n",
      "101/101 [==============================] - 865s 9s/step - loss: 0.3451 - accuracy: 0.8552 - val_loss: 0.7306 - val_accuracy: 0.7892\n",
      "Epoch 13/20\n",
      "101/101 [==============================] - 917s 9s/step - loss: 0.3319 - accuracy: 0.8552 - val_loss: 0.7460 - val_accuracy: 0.7892\n",
      "Epoch 14/20\n",
      "101/101 [==============================] - 945s 9s/step - loss: 0.3470 - accuracy: 0.8552 - val_loss: 0.7934 - val_accuracy: 0.7892\n",
      "Epoch 15/20\n",
      "101/101 [==============================] - 854s 9s/step - loss: 0.3285 - accuracy: 0.8552 - val_loss: 0.9617 - val_accuracy: 0.7892\n",
      "Epoch 16/20\n",
      "101/101 [==============================] - 901s 9s/step - loss: 0.3586 - accuracy: 0.8552 - val_loss: 0.8959 - val_accuracy: 0.7892\n",
      "Epoch 17/20\n",
      "101/101 [==============================] - 916s 9s/step - loss: 0.3655 - accuracy: 0.8552 - val_loss: 0.9821 - val_accuracy: 0.7892\n",
      "Epoch 18/20\n",
      "101/101 [==============================] - 853s 9s/step - loss: 0.3510 - accuracy: 0.8552 - val_loss: 0.8606 - val_accuracy: 0.7892\n",
      "Epoch 19/20\n",
      "101/101 [==============================] - 900s 9s/step - loss: 0.3478 - accuracy: 0.8552 - val_loss: 0.8826 - val_accuracy: 0.7892\n",
      "Epoch 20/20\n",
      "101/101 [==============================] - 979s 10s/step - loss: 0.3265 - accuracy: 0.8552 - val_loss: 1.0408 - val_accuracy: 0.7892\n"
     ]
    },
    {
     "data": {
      "text/plain": [
       "<tensorflow.python.keras.callbacks.History at 0x16b00d77d88>"
      ]
     },
     "execution_count": 41,
     "metadata": {},
     "output_type": "execute_result"
    }
   ],
   "source": [
    "model.fit(my_training_batch_generator,\n",
    "epochs=20,steps_per_epoch=steps_per_epoch,\n",
    " verbose=1, validation_data=my_validation_batch_generator, \n",
    "validation_steps=validation_steps)"
   ]
  },
  {
   "cell_type": "code",
   "execution_count": 42,
   "metadata": {},
   "outputs": [
    {
     "name": "stdout",
     "output_type": "stream",
     "text": [
      "INFO:tensorflow:Assets written to: model_LSTM_1\\assets\n"
     ]
    }
   ],
   "source": [
    "model.save('model_LSTM_1')"
   ]
  },
  {
   "cell_type": "markdown",
   "metadata": {},
   "source": [
    "# LSTM 2"
   ]
  },
  {
   "cell_type": "code",
   "execution_count": 25,
   "metadata": {},
   "outputs": [],
   "source": [
    "def batch_generator(prep_files,batch_size,steps):\n",
    "    \n",
    "    idx=1\n",
    "    while True: \n",
    "        yield load_data(prep_files,idx-1,batch_size)## Yields data\n",
    "        if idx<steps:\n",
    "            idx+=1\n",
    "        else:\n",
    "            idx=1"
   ]
  },
  {
   "cell_type": "code",
   "execution_count": null,
   "metadata": {},
   "outputs": [],
   "source": []
  },
  {
   "cell_type": "code",
   "execution_count": 26,
   "metadata": {},
   "outputs": [],
   "source": [
    "def load_data(prep_files,idx,batch_size):\n",
    "    \n",
    "    X_list = []\n",
    "    Y_list = []\n",
    "\n",
    "    for f in prep_files[idx*batch_size:idx*batch_size+batch_size]:\n",
    "\n",
    "        with open(\"C:\\\\Users\\\\21655\\\\Desktop\\\\Projet\\\\Processed_Data\\\\\" + f, 'rb') as f:\n",
    "            X_f, Y_f = pickle.load(f)\n",
    "            X_list.extend(X_f)\n",
    "            Y_list.extend(Y_f)\n",
    "            f.close()\n",
    "\n",
    "    X = np.asarray(X_list)\n",
    "    X = X.reshape(X.shape[0], X.shape[1])\n",
    "\n",
    "    Y = np.asarray(Y_list)\n",
    "    Y = Y.reshape(Y.shape[0],1)\n",
    "\n",
    "    #Normalizing the feature values (very important for NNs)\n",
    "    scaler = StandardScaler()\n",
    "    X = scaler.fit_transform(X)\n",
    "    \n",
    "    X = np.reshape(X, (X.shape[0],1,X.shape[1]))\n",
    "\n",
    "    return X,Y"
   ]
  },
  {
   "cell_type": "code",
   "execution_count": 27,
   "metadata": {},
   "outputs": [],
   "source": [
    "import sklearn.linear_model\n",
    "\n",
    "import sklearn.metrics\n",
    "from sklearn.preprocessing import StandardScaler"
   ]
  },
  {
   "cell_type": "code",
   "execution_count": 30,
   "metadata": {},
   "outputs": [
    {
     "name": "stdout",
     "output_type": "stream",
     "text": [
      "Model: \"sequential\"\n",
      "_________________________________________________________________\n",
      "Layer (type)                 Output Shape              Param #   \n",
      "=================================================================\n",
      "bidirectional (Bidirectional (1, 8)                    3360160   \n",
      "_________________________________________________________________\n",
      "dense (Dense)                (1, 1)                    9         \n",
      "=================================================================\n",
      "Total params: 3,360,169\n",
      "Trainable params: 3,360,169\n",
      "Non-trainable params: 0\n",
      "_________________________________________________________________\n"
     ]
    }
   ],
   "source": [
    "## importing libraries\n",
    "import tensorflow as tf\n",
    "from tensorflow.keras import Sequential\n",
    "\n",
    "from tensorflow.keras.layers import Dense, Dropout, Bidirectional\n",
    "from tensorflow.keras.layers import Embedding\n",
    "from tensorflow.keras.layers import LSTM\n",
    "tf.keras.backend.clear_session()\n",
    "\n",
    "# some model parameters\n",
    "output_dim = 2\n",
    "input_dim = 105000\n",
    "batch_size = 10 \n",
    "nb_epoch = 15\n",
    "steps_per_epoch=np.ceil(1001/batch_size)\n",
    "validation_steps=np.ceil(251/batch_size)\n",
    "### Generator objects for train and validation\n",
    "my_training_batch_generator = batch_generator(Prep_train, 10,steps_per_epoch)\n",
    "my_validation_batch_generator = batch_generator(Prep_test, 10,validation_steps)\n",
    "\n",
    "\n",
    "model_1 = Sequential()\n",
    "model_1.add(Bidirectional(LSTM(4, stateful=True, return_sequences=False),input_shape=(1,105000), batch_size=1))\n",
    "model_1.add(Dense(1, activation='sigmoid'))\n",
    "model_1.compile(loss='mse', optimizer='adam', metrics=['accuracy'])\n",
    "\n",
    "model_1.summary()"
   ]
  },
  {
   "cell_type": "code",
   "execution_count": 31,
   "metadata": {},
   "outputs": [
    {
     "name": "stderr",
     "output_type": "stream",
     "text": [
      "C:\\Users\\21655\\anaconda3\\lib\\site-packages\\tensorflow\\python\\keras\\engine\\training.py:1844: UserWarning: `Model.fit_generator` is deprecated and will be removed in a future version. Please use `Model.fit`, which supports generators.\n",
      "  warnings.warn('`Model.fit_generator` is deprecated and '\n"
     ]
    },
    {
     "name": "stdout",
     "output_type": "stream",
     "text": [
      "Epoch 1/15\n",
      "101/101 [==============================] - 1802s 18s/step - loss: 0.2575 - accuracy: 0.4815 - val_loss: 0.1993 - val_accuracy: 0.5593\n",
      "Epoch 2/15\n",
      "101/101 [==============================] - 1188s 12s/step - loss: 0.2097 - accuracy: 0.5361 - val_loss: 0.1615 - val_accuracy: 0.8566\n",
      "Epoch 3/15\n",
      "101/101 [==============================] - 958s 9s/step - loss: 0.1599 - accuracy: 0.7921 - val_loss: 0.1911 - val_accuracy: 0.7781\n",
      "Epoch 4/15\n",
      "101/101 [==============================] - 1118s 11s/step - loss: 0.1648 - accuracy: 0.7810 - val_loss: 0.1727 - val_accuracy: 0.8015\n",
      "Epoch 5/15\n",
      "101/101 [==============================] - 930s 9s/step - loss: 0.1477 - accuracy: 0.7881 - val_loss: 0.1699 - val_accuracy: 0.8459\n",
      "Epoch 6/15\n",
      "101/101 [==============================] - 978s 10s/step - loss: 0.1449 - accuracy: 0.7920 - val_loss: 0.1667 - val_accuracy: 0.8172\n",
      "Epoch 7/15\n",
      "101/101 [==============================] - 1158s 12s/step - loss: 0.1414 - accuracy: 0.7908 - val_loss: 0.1597 - val_accuracy: 0.8172\n",
      "Epoch 8/15\n",
      "101/101 [==============================] - 1082s 11s/step - loss: 0.1406 - accuracy: 0.7920 - val_loss: 0.1584 - val_accuracy: 0.8172\n",
      "Epoch 9/15\n",
      "101/101 [==============================] - 1021s 10s/step - loss: 0.1363 - accuracy: 0.7869 - val_loss: 0.1563 - val_accuracy: 0.8172\n",
      "Epoch 10/15\n",
      "101/101 [==============================] - 908s 9s/step - loss: 0.1349 - accuracy: 0.7869 - val_loss: 0.1533 - val_accuracy: 0.8172\n",
      "Epoch 11/15\n",
      "101/101 [==============================] - 985s 10s/step - loss: 0.1340 - accuracy: 0.8081 - val_loss: 0.1543 - val_accuracy: 0.8172\n",
      "Epoch 12/15\n",
      "101/101 [==============================] - 1037s 10s/step - loss: 0.1330 - accuracy: 0.8081 - val_loss: 0.1529 - val_accuracy: 0.8172\n",
      "Epoch 13/15\n",
      "101/101 [==============================] - 884s 9s/step - loss: 0.1317 - accuracy: 0.8081 - val_loss: 0.1516 - val_accuracy: 0.8172\n",
      "Epoch 14/15\n",
      "101/101 [==============================] - 1110s 11s/step - loss: 0.1309 - accuracy: 0.8081 - val_loss: 0.1491 - val_accuracy: 0.8617\n",
      "Epoch 15/15\n",
      "101/101 [==============================] - 892s 9s/step - loss: 0.1297 - accuracy: 0.8081 - val_loss: 0.1481 - val_accuracy: 0.8617\n"
     ]
    },
    {
     "data": {
      "text/plain": [
       "<tensorflow.python.keras.callbacks.History at 0x156be842948>"
      ]
     },
     "execution_count": 31,
     "metadata": {},
     "output_type": "execute_result"
    }
   ],
   "source": [
    "model_1.fit_generator(my_training_batch_generator,\n",
    "epochs=nb_epoch,steps_per_epoch=steps_per_epoch,\n",
    " verbose=1, validation_data=my_validation_batch_generator, \n",
    "validation_steps=validation_steps)"
   ]
  },
  {
   "cell_type": "code",
   "execution_count": 32,
   "metadata": {},
   "outputs": [
    {
     "name": "stderr",
     "output_type": "stream",
     "text": [
      "WARNING:absl:Found untraced functions such as lstm_cell_1_layer_call_fn, lstm_cell_1_layer_call_and_return_conditional_losses, lstm_cell_2_layer_call_fn, lstm_cell_2_layer_call_and_return_conditional_losses, lstm_cell_1_layer_call_fn while saving (showing 5 of 10). These functions will not be directly callable after loading.\n",
      "WARNING:absl:Found untraced functions such as lstm_cell_1_layer_call_fn, lstm_cell_1_layer_call_and_return_conditional_losses, lstm_cell_2_layer_call_fn, lstm_cell_2_layer_call_and_return_conditional_losses, lstm_cell_1_layer_call_fn while saving (showing 5 of 10). These functions will not be directly callable after loading.\n"
     ]
    },
    {
     "name": "stdout",
     "output_type": "stream",
     "text": [
      "INFO:tensorflow:Assets written to: model_LSTM_2\\assets\n"
     ]
    },
    {
     "name": "stderr",
     "output_type": "stream",
     "text": [
      "INFO:tensorflow:Assets written to: model_LSTM_2\\assets\n"
     ]
    }
   ],
   "source": [
    "model_1.save('model_LSTM_2')"
   ]
  },
  {
   "cell_type": "code",
   "execution_count": null,
   "metadata": {},
   "outputs": [],
   "source": []
  },
  {
   "cell_type": "markdown",
   "metadata": {},
   "source": [
    "# LSTM 3"
   ]
  },
  {
   "cell_type": "code",
   "execution_count": 31,
   "metadata": {},
   "outputs": [],
   "source": [
    "def batch_generator(prep_files,batch_size,steps):\n",
    "    \n",
    "    idx=1\n",
    "    while True: \n",
    "        yield load_data(prep_files,idx-1,batch_size)## Yields data\n",
    "        if idx<steps:\n",
    "            idx+=1\n",
    "        else:\n",
    "            idx=1"
   ]
  },
  {
   "cell_type": "code",
   "execution_count": null,
   "metadata": {},
   "outputs": [],
   "source": []
  },
  {
   "cell_type": "code",
   "execution_count": 32,
   "metadata": {},
   "outputs": [],
   "source": [
    "def load_data(prep_files,idx,batch_size):\n",
    "    \n",
    "    X_list = []\n",
    "    Y_list = []\n",
    "\n",
    "    for f in prep_files[idx*batch_size:idx*batch_size+batch_size]:\n",
    "\n",
    "        with open(\"C:\\\\Users\\\\21655\\\\Desktop\\\\Projet\\\\Processed_Data\\\\\" + f, 'rb') as f:\n",
    "            X_f, Y_f = pickle.load(f)\n",
    "            X_list.extend(X_f)\n",
    "            Y_list.extend(Y_f)\n",
    "            f.close()\n",
    "\n",
    "    X = np.asarray(X_list)\n",
    "    X = X.reshape(X.shape[0], X.shape[1])\n",
    "\n",
    "    Y = np.asarray(Y_list)\n",
    "    Y = Y.reshape(Y.shape[0],1)\n",
    "\n",
    "    #Normalizing the feature values (very important for NNs)\n",
    "    scaler = StandardScaler()\n",
    "    X = scaler.fit_transform(X)\n",
    "    \n",
    "    X = np.reshape(X, (X.shape[0],1,X.shape[1]))\n",
    "\n",
    "    return X,Y"
   ]
  },
  {
   "cell_type": "code",
   "execution_count": 33,
   "metadata": {},
   "outputs": [],
   "source": [
    "import sklearn.linear_model\n",
    "\n",
    "import sklearn.metrics\n",
    "from sklearn.preprocessing import StandardScaler"
   ]
  },
  {
   "cell_type": "code",
   "execution_count": 41,
   "metadata": {},
   "outputs": [
    {
     "name": "stdout",
     "output_type": "stream",
     "text": [
      "Model: \"sequential\"\n",
      "_________________________________________________________________\n",
      "Layer (type)                 Output Shape              Param #   \n",
      "=================================================================\n",
      "lstm (LSTM)                  (None, 1, 64)             26896640  \n",
      "_________________________________________________________________\n",
      "dropout (Dropout)            (None, 1, 64)             0         \n",
      "_________________________________________________________________\n",
      "lstm_1 (LSTM)                (None, 32)                12416     \n",
      "_________________________________________________________________\n",
      "dropout_1 (Dropout)          (None, 32)                0         \n",
      "_________________________________________________________________\n",
      "dense (Dense)                (None, 1)                 33        \n",
      "=================================================================\n",
      "Total params: 26,909,089\n",
      "Trainable params: 26,909,089\n",
      "Non-trainable params: 0\n",
      "_________________________________________________________________\n"
     ]
    }
   ],
   "source": [
    "## importing libraries\n",
    "import tensorflow as tf\n",
    "from tensorflow.keras import Sequential\n",
    "\n",
    "from tensorflow.keras.layers import Dense, Dropout\n",
    "from tensorflow.keras.layers import Embedding\n",
    "from tensorflow.keras.layers import LSTM\n",
    "tf.keras.backend.clear_session()\n",
    "\n",
    "# some model parameters\n",
    "output_dim = 2\n",
    "input_dim = 105000\n",
    "batch_size = 10 \n",
    "nb_epoch = 100\n",
    "steps_per_epoch=np.ceil(1001/batch_size)\n",
    "validation_steps=np.ceil(251/batch_size)\n",
    "### Generator objects for train and validation\n",
    "my_training_batch_generator = batch_generator(Prep_train, 10,steps_per_epoch)\n",
    "my_validation_batch_generator = batch_generator(Prep_test, 10,validation_steps)\n",
    "\n",
    "\n",
    "model = Sequential()\n",
    "model.add(LSTM(64, return_sequences=True,input_shape=(1,105000),activation='relu'))\n",
    "model.add(Dropout(0.2))\n",
    "model.add(LSTM(32,activation=\"relu\"))\n",
    "model.add(Dropout(0.2))\n",
    "model.add(Dense(1, activation='sigmoid'))\n",
    "model.compile(loss='binary_crossentropy', optimizer='adam',  metrics = ['accuracy'])\n",
    "\n",
    "model.summary()"
   ]
  },
  {
   "cell_type": "code",
   "execution_count": 42,
   "metadata": {},
   "outputs": [
    {
     "name": "stderr",
     "output_type": "stream",
     "text": [
      "C:\\Users\\21655\\anaconda3\\lib\\site-packages\\tensorflow\\python\\keras\\engine\\training.py:1844: UserWarning: `Model.fit_generator` is deprecated and will be removed in a future version. Please use `Model.fit`, which supports generators.\n",
      "  warnings.warn('`Model.fit_generator` is deprecated and '\n"
     ]
    },
    {
     "name": "stdout",
     "output_type": "stream",
     "text": [
      "Epoch 1/20\n",
      "101/101 [==============================] - 1125s 11s/step - loss: 0.7398 - accuracy: 0.8299 - val_loss: 0.5391 - val_accuracy: 0.8262\n",
      "Epoch 2/20\n",
      "101/101 [==============================] - 938s 9s/step - loss: 0.4771 - accuracy: 0.8619 - val_loss: 0.4552 - val_accuracy: 0.8270\n",
      "Epoch 3/20\n",
      "101/101 [==============================] - 799s 8s/step - loss: 0.4143 - accuracy: 0.8671 - val_loss: 0.4408 - val_accuracy: 0.8272\n",
      "Epoch 4/20\n",
      "101/101 [==============================] - 848s 8s/step - loss: 0.4011 - accuracy: 0.8703 - val_loss: 0.4266 - val_accuracy: 0.8291\n",
      "Epoch 5/20\n",
      "101/101 [==============================] - 861s 9s/step - loss: 0.3868 - accuracy: 0.8725 - val_loss: 0.4190 - val_accuracy: 0.8291\n",
      "Epoch 6/20\n",
      "101/101 [==============================] - 867s 9s/step - loss: 0.3653 - accuracy: 0.8730 - val_loss: 0.4135 - val_accuracy: 0.8291\n",
      "Epoch 7/20\n",
      "101/101 [==============================] - 796s 8s/step - loss: 0.3552 - accuracy: 0.8732 - val_loss: 0.4175 - val_accuracy: 0.8292\n",
      "Epoch 8/20\n",
      "101/101 [==============================] - 1003s 10s/step - loss: 0.3431 - accuracy: 0.8731 - val_loss: 0.4047 - val_accuracy: 0.8293\n",
      "Epoch 9/20\n",
      "101/101 [==============================] - 803s 8s/step - loss: 0.3230 - accuracy: 0.8739 - val_loss: 0.4039 - val_accuracy: 0.8293\n",
      "Epoch 10/20\n",
      "101/101 [==============================] - 909s 9s/step - loss: 0.3234 - accuracy: 0.8738 - val_loss: 0.3967 - val_accuracy: 0.8294\n",
      "Epoch 11/20\n",
      "101/101 [==============================] - 909s 9s/step - loss: 0.3125 - accuracy: 0.8742 - val_loss: 0.3971 - val_accuracy: 0.8295\n",
      "Epoch 12/20\n",
      "101/101 [==============================] - 822s 8s/step - loss: 0.3068 - accuracy: 0.8740 - val_loss: 0.3997 - val_accuracy: 0.8295\n",
      "Epoch 13/20\n",
      "101/101 [==============================] - 860s 9s/step - loss: 0.3051 - accuracy: 0.8740 - val_loss: 0.4266 - val_accuracy: 0.8295\n",
      "Epoch 14/20\n",
      "101/101 [==============================] - 878s 9s/step - loss: 0.2922 - accuracy: 0.8742 - val_loss: 0.4276 - val_accuracy: 0.8295\n",
      "Epoch 15/20\n",
      "101/101 [==============================] - 781s 8s/step - loss: 0.2893 - accuracy: 0.8739 - val_loss: 0.4296 - val_accuracy: 0.8295\n",
      "Epoch 16/20\n",
      "101/101 [==============================] - 865s 9s/step - loss: 0.2782 - accuracy: 0.8740 - val_loss: 0.4164 - val_accuracy: 0.8294\n",
      "Epoch 17/20\n",
      "101/101 [==============================] - 941s 9s/step - loss: 0.2822 - accuracy: 0.8741 - val_loss: 0.4397 - val_accuracy: 0.8295\n",
      "Epoch 18/20\n",
      "101/101 [==============================] - 795s 8s/step - loss: 0.2669 - accuracy: 0.8741 - val_loss: 0.4252 - val_accuracy: 0.8295\n",
      "Epoch 19/20\n",
      "101/101 [==============================] - 799s 8s/step - loss: 0.2786 - accuracy: 0.8740 - val_loss: 0.4204 - val_accuracy: 0.8294\n",
      "Epoch 20/20\n",
      "101/101 [==============================] - 941s 9s/step - loss: 0.2697 - accuracy: 0.8743 - val_loss: 0.4383 - val_accuracy: 0.8294\n"
     ]
    },
    {
     "data": {
      "text/plain": [
       "<tensorflow.python.keras.callbacks.History at 0x1b621a3de08>"
      ]
     },
     "execution_count": 42,
     "metadata": {},
     "output_type": "execute_result"
    }
   ],
   "source": [
    "model.fit_generator(my_training_batch_generator,\n",
    "epochs=20,steps_per_epoch=steps_per_epoch,\n",
    " verbose=1, validation_data=my_validation_batch_generator, \n",
    "validation_steps=validation_steps)"
   ]
  },
  {
   "cell_type": "code",
   "execution_count": 43,
   "metadata": {},
   "outputs": [
    {
     "name": "stdout",
     "output_type": "stream",
     "text": [
      "INFO:tensorflow:Assets written to: model_LSTM_3\\assets\n"
     ]
    }
   ],
   "source": [
    "model.save('model_LSTM_3')"
   ]
  },
  {
   "cell_type": "code",
   "execution_count": null,
   "metadata": {},
   "outputs": [],
   "source": []
  },
  {
   "cell_type": "code",
   "execution_count": null,
   "metadata": {},
   "outputs": [],
   "source": []
  },
  {
   "cell_type": "markdown",
   "metadata": {},
   "source": [
    "# GRU"
   ]
  },
  {
   "cell_type": "code",
   "execution_count": 43,
   "metadata": {},
   "outputs": [],
   "source": [
    "def batch_generator(prep_files,batch_size,steps):\n",
    "    \n",
    "    idx=1\n",
    "    while True: \n",
    "        yield load_data(prep_files,idx-1,batch_size)## Yields data\n",
    "        if idx<steps:\n",
    "            idx+=1\n",
    "        else:\n",
    "            idx=1"
   ]
  },
  {
   "cell_type": "code",
   "execution_count": null,
   "metadata": {},
   "outputs": [],
   "source": []
  },
  {
   "cell_type": "code",
   "execution_count": 44,
   "metadata": {},
   "outputs": [],
   "source": [
    "def load_data(prep_files,idx,batch_size):\n",
    "    \n",
    "    X_list = []\n",
    "    Y_list = []\n",
    "\n",
    "    for f in prep_files[idx*batch_size:idx*batch_size+batch_size]:\n",
    "\n",
    "        with open(\"C:\\\\Users\\\\21655\\\\Desktop\\\\Projet\\\\Processed_Data\\\\\" + f, 'rb') as f:\n",
    "            X_f, Y_f = pickle.load(f)\n",
    "            X_list.extend(X_f)\n",
    "            Y_list.extend(Y_f)\n",
    "            f.close()\n",
    "\n",
    "    X = np.asarray(X_list)\n",
    "    X = X.reshape(X.shape[0], X.shape[1])\n",
    "\n",
    "    Y = np.asarray(Y_list)\n",
    "    Y = Y.reshape(Y.shape[0],1)\n",
    "\n",
    "    #Normalizing the feature values (very important for NNs)\n",
    "    scaler = StandardScaler()\n",
    "    X = scaler.fit_transform(X)\n",
    "    \n",
    "    X = np.reshape(X, (X.shape[0],1,X.shape[1]))\n",
    "    \n",
    "    \n",
    "    #Y = to_categorical(Y)\n",
    "\n",
    "    return X,Y"
   ]
  },
  {
   "cell_type": "code",
   "execution_count": 45,
   "metadata": {},
   "outputs": [],
   "source": [
    "import sklearn.linear_model\n",
    "\n",
    "import sklearn.metrics\n",
    "from sklearn.preprocessing import StandardScaler\n",
    "from keras.utils import to_categorical"
   ]
  },
  {
   "cell_type": "code",
   "execution_count": 46,
   "metadata": {},
   "outputs": [
    {
     "name": "stdout",
     "output_type": "stream",
     "text": [
      "Model: \"sequential\"\n",
      "_________________________________________________________________\n",
      "Layer (type)                 Output Shape              Param #   \n",
      "=================================================================\n",
      "bidirectional (Bidirectional (1, 8)                    2520144   \n",
      "_________________________________________________________________\n",
      "dense (Dense)                (1, 1)                    9         \n",
      "=================================================================\n",
      "Total params: 2,520,153\n",
      "Trainable params: 2,520,153\n",
      "Non-trainable params: 0\n",
      "_________________________________________________________________\n"
     ]
    }
   ],
   "source": [
    "## importing libraries\n",
    "import tensorflow as tf\n",
    "from tensorflow.keras import Sequential\n",
    "\n",
    "from tensorflow.keras.layers import Dense, Dropout, Bidirectional\n",
    "from tensorflow.keras.layers import Embedding\n",
    "from tensorflow.keras.layers import LSTM, GRU\n",
    "tf.keras.backend.clear_session()\n",
    "\n",
    "# some model parameters\n",
    "output_dim = 2\n",
    "input_dim = 105000\n",
    "batch_size = 10 \n",
    "nb_epoch = 20\n",
    "steps_per_epoch=np.ceil(1001/batch_size)\n",
    "validation_steps=np.ceil(251/batch_size)\n",
    "### Generator objects for train and validation\n",
    "my_training_batch_generator = batch_generator(Prep_train, 10,steps_per_epoch)\n",
    "my_validation_batch_generator = batch_generator(Prep_test, 10,validation_steps)\n",
    "\n",
    "model_5 = Sequential()\n",
    "model_5.add(Bidirectional(GRU(4, stateful=True, return_sequences=False),input_shape=(1, 105000), batch_size=1))\n",
    "model_5.add(Dense(1, activation='sigmoid'))\n",
    "model_5.compile(loss='binary_crossentropy', optimizer='adam', metrics=['accuracy'])\n",
    "\n",
    "model_5.summary()"
   ]
  },
  {
   "cell_type": "code",
   "execution_count": null,
   "metadata": {},
   "outputs": [
    {
     "name": "stdout",
     "output_type": "stream",
     "text": [
      "Epoch 1/20\n",
      "101/101 [==============================] - 832s 8s/step - loss: 0.7778 - accuracy: 0.6437 - val_loss: 0.5354 - val_accuracy: 0.7296\n",
      "Epoch 2/20\n",
      "101/101 [==============================] - 870s 9s/step - loss: 0.4711 - accuracy: 0.8136 - val_loss: 0.5331 - val_accuracy: 0.7382\n",
      "Epoch 3/20\n",
      "101/101 [==============================] - 960s 10s/step - loss: 0.4359 - accuracy: 0.8463 - val_loss: 0.5441 - val_accuracy: 0.7668\n",
      "Epoch 4/20\n",
      "101/101 [==============================] - 912s 9s/step - loss: 0.4230 - accuracy: 0.8472 - val_loss: 0.5299 - val_accuracy: 0.7382\n",
      "Epoch 5/20\n",
      "101/101 [==============================] - 835s 8s/step - loss: 0.4340 - accuracy: 0.8472 - val_loss: 0.5864 - val_accuracy: 0.7892\n",
      "Epoch 6/20\n",
      "101/101 [==============================] - 935s 9s/step - loss: 0.4284 - accuracy: 0.8472 - val_loss: 0.6232 - val_accuracy: 0.6963\n",
      "Epoch 7/20\n",
      "101/101 [==============================] - 926s 9s/step - loss: 0.4274 - accuracy: 0.8468 - val_loss: 0.6008 - val_accuracy: 0.7196\n",
      "Epoch 8/20\n",
      " 22/101 [=====>........................] - ETA: 6:52 - loss: 0.4314 - accuracy: 0.8360"
     ]
    }
   ],
   "source": [
    "model_5.fit(my_training_batch_generator,\n",
    "epochs=nb_epoch,steps_per_epoch=steps_per_epoch,\n",
    " verbose=1, validation_data=my_validation_batch_generator, \n",
    "validation_steps=validation_steps)"
   ]
  },
  {
   "cell_type": "code",
   "execution_count": null,
   "metadata": {},
   "outputs": [],
   "source": [
    "model_5.save('model_GRU')"
   ]
  },
  {
   "cell_type": "code",
   "execution_count": null,
   "metadata": {},
   "outputs": [],
   "source": [
    "loss,acc=model_5.evaluate(my_validation_batch_generator)\n",
    "print(\"accuracy: {:5.2f}% \".format(100*acc))\n",
    "print(\"loss: {:5.2f}% \".format(100*loss))"
   ]
  },
  {
   "cell_type": "markdown",
   "metadata": {},
   "source": [
    "# DENSE"
   ]
  },
  {
   "cell_type": "code",
   "execution_count": null,
   "metadata": {},
   "outputs": [],
   "source": []
  },
  {
   "cell_type": "code",
   "execution_count": 29,
   "metadata": {},
   "outputs": [],
   "source": [
    "def batch_generator(prep_files,batch_size,steps):\n",
    "    \n",
    "    idx=1\n",
    "    while True: \n",
    "        yield load_data(prep_files,idx-1,batch_size)## Yields data\n",
    "        if idx<steps:\n",
    "            idx+=1\n",
    "        else:\n",
    "            idx=1"
   ]
  },
  {
   "cell_type": "code",
   "execution_count": null,
   "metadata": {},
   "outputs": [],
   "source": []
  },
  {
   "cell_type": "code",
   "execution_count": 30,
   "metadata": {},
   "outputs": [],
   "source": [
    "def load_data(prep_files,idx,batch_size):\n",
    "    \n",
    "    X_list = []\n",
    "    Y_list = []\n",
    "\n",
    "    for f in prep_files[idx*batch_size:idx*batch_size+batch_size]:\n",
    "\n",
    "        with open(\"C:\\\\Users\\\\21655\\\\Desktop\\\\Projet\\\\Processed_Data\\\\\" + f, 'rb') as f:\n",
    "            X_f, Y_f = pickle.load(f)\n",
    "            X_list.extend(X_f)\n",
    "            Y_list.extend(Y_f)\n",
    "            f.close()\n",
    "\n",
    "    X = np.asarray(X_list)\n",
    "    X = X.reshape(X.shape[0], X.shape[1])\n",
    "\n",
    "    Y = np.asarray(Y_list)\n",
    "    Y = Y.reshape(Y.shape[0],1)\n",
    "\n",
    "    #Normalizing the feature values (very important for NNs)\n",
    "    scaler = StandardScaler()\n",
    "    X = scaler.fit_transform(X)\n",
    "    \n",
    "\n",
    "    return X,Y"
   ]
  },
  {
   "cell_type": "code",
   "execution_count": 31,
   "metadata": {},
   "outputs": [],
   "source": [
    "import sklearn.linear_model\n",
    "\n",
    "import sklearn.metrics\n",
    "from sklearn.preprocessing import StandardScaler"
   ]
  },
  {
   "cell_type": "code",
   "execution_count": 32,
   "metadata": {},
   "outputs": [
    {
     "name": "stdout",
     "output_type": "stream",
     "text": [
      "Model: \"sequential\"\n",
      "_________________________________________________________________\n",
      "Layer (type)                 Output Shape              Param #   \n",
      "=================================================================\n",
      "dense (Dense)                (None, 100)               10500100  \n",
      "_________________________________________________________________\n",
      "batch_normalization (BatchNo (None, 100)               400       \n",
      "_________________________________________________________________\n",
      "dropout (Dropout)            (None, 100)               0         \n",
      "_________________________________________________________________\n",
      "dense_1 (Dense)              (None, 100)               10100     \n",
      "_________________________________________________________________\n",
      "batch_normalization_1 (Batch (None, 100)               400       \n",
      "_________________________________________________________________\n",
      "dropout_1 (Dropout)          (None, 100)               0         \n",
      "_________________________________________________________________\n",
      "dense_2 (Dense)              (None, 1)                 101       \n",
      "=================================================================\n",
      "Total params: 10,511,101\n",
      "Trainable params: 10,510,701\n",
      "Non-trainable params: 400\n",
      "_________________________________________________________________\n"
     ]
    }
   ],
   "source": [
    "## importing libraries\n",
    "import tensorflow as tf\n",
    "from tensorflow.keras import Sequential\n",
    "\n",
    "from tensorflow.keras.layers import Dense, Dropout, BatchNormalization, Activation\n",
    "from tensorflow.keras.layers import Embedding\n",
    "from tensorflow.keras.layers import LSTM\n",
    "tf.keras.backend.clear_session()\n",
    "\n",
    "# some model parameters\n",
    "output_dim = 2\n",
    "input_dim = 105000\n",
    "batch_size = 10 \n",
    "nb_epoch = 20\n",
    "steps_per_epoch=np.ceil(1001/batch_size)\n",
    "validation_steps=np.ceil(251/batch_size)\n",
    "### Generator objects for train and validation\n",
    "my_training_batch_generator = batch_generator(Prep_train, 10,steps_per_epoch)\n",
    "my_validation_batch_generator = batch_generator(Prep_test, 10,validation_steps)\n",
    "\n",
    "#Topology\n",
    "model_4 = Sequential()\n",
    "\n",
    "model_4.add(Dense(100, input_dim=105000,activation='relu'))\n",
    "model_4.add(BatchNormalization())\n",
    "model_4.add(Dropout(0.2))\n",
    "\n",
    "model_4.add(Dense(100,activation='relu'))\n",
    "model_4.add(BatchNormalization())\n",
    "model_4.add(Dropout(0.2))\n",
    "\n",
    "model_4.add(Dense(1,activation='sigmoid'))\n",
    "\n",
    "model_4.compile(loss='binary_crossentropy', optimizer='adam', metrics=['accuracy'])\n",
    "model_4.summary()"
   ]
  },
  {
   "cell_type": "code",
   "execution_count": 33,
   "metadata": {},
   "outputs": [
    {
     "name": "stdout",
     "output_type": "stream",
     "text": [
      "Epoch 1/20\n",
      "101/101 [==============================] - 976s 10s/step - loss: 0.7046 - accuracy: 0.6455 - val_loss: 0.4125 - val_accuracy: 0.8257\n",
      "Epoch 2/20\n",
      "101/101 [==============================] - 891s 9s/step - loss: 0.4340 - accuracy: 0.8111 - val_loss: 0.3620 - val_accuracy: 0.8432\n",
      "Epoch 3/20\n",
      "101/101 [==============================] - 820s 8s/step - loss: 0.3903 - accuracy: 0.8291 - val_loss: 0.3514 - val_accuracy: 0.8424\n",
      "Epoch 4/20\n",
      "101/101 [==============================] - 788s 8s/step - loss: 0.3760 - accuracy: 0.8341 - val_loss: 0.3485 - val_accuracy: 0.8423\n",
      "Epoch 5/20\n",
      "101/101 [==============================] - 962s 10s/step - loss: 0.3606 - accuracy: 0.8409 - val_loss: 0.3487 - val_accuracy: 0.8432\n",
      "Epoch 6/20\n",
      "101/101 [==============================] - 757s 8s/step - loss: 0.3448 - accuracy: 0.8453 - val_loss: 0.3472 - val_accuracy: 0.8428\n",
      "Epoch 7/20\n",
      "101/101 [==============================] - 807s 8s/step - loss: 0.3333 - accuracy: 0.8498 - val_loss: 0.3436 - val_accuracy: 0.8422\n",
      "Epoch 8/20\n",
      "101/101 [==============================] - 790s 8s/step - loss: 0.3217 - accuracy: 0.8560 - val_loss: 0.3412 - val_accuracy: 0.8394\n",
      "Epoch 9/20\n",
      "101/101 [==============================] - 792s 8s/step - loss: 0.3043 - accuracy: 0.8623 - val_loss: 0.3433 - val_accuracy: 0.8380\n",
      "Epoch 10/20\n",
      "101/101 [==============================] - 886s 9s/step - loss: 0.2919 - accuracy: 0.8742 - val_loss: 0.3459 - val_accuracy: 0.8347\n",
      "Epoch 11/20\n",
      "101/101 [==============================] - 910s 9s/step - loss: 0.2775 - accuracy: 0.8788 - val_loss: 0.3464 - val_accuracy: 0.8357\n",
      "Epoch 12/20\n",
      "101/101 [==============================] - 898s 9s/step - loss: 0.2661 - accuracy: 0.8866 - val_loss: 0.3567 - val_accuracy: 0.8394\n",
      "Epoch 13/20\n",
      "101/101 [==============================] - 795s 8s/step - loss: 0.2563 - accuracy: 0.8906 - val_loss: 0.3564 - val_accuracy: 0.8307\n",
      "Epoch 14/20\n",
      "101/101 [==============================] - 750s 7s/step - loss: 0.2436 - accuracy: 0.8965 - val_loss: 0.3612 - val_accuracy: 0.8256\n",
      "Epoch 15/20\n",
      "101/101 [==============================] - 880s 9s/step - loss: 0.2401 - accuracy: 0.8993 - val_loss: 0.3674 - val_accuracy: 0.8349\n",
      "Epoch 16/20\n",
      "101/101 [==============================] - 888s 9s/step - loss: 0.2242 - accuracy: 0.9080 - val_loss: 0.3792 - val_accuracy: 0.8364\n",
      "Epoch 17/20\n",
      "101/101 [==============================] - 789s 8s/step - loss: 0.2199 - accuracy: 0.9085 - val_loss: 0.3757 - val_accuracy: 0.8311\n",
      "Epoch 18/20\n",
      "101/101 [==============================] - 780s 8s/step - loss: 0.2097 - accuracy: 0.9148 - val_loss: 0.3763 - val_accuracy: 0.8247\n",
      "Epoch 19/20\n",
      "101/101 [==============================] - 912s 9s/step - loss: 0.2000 - accuracy: 0.9186 - val_loss: 0.3770 - val_accuracy: 0.8234\n",
      "Epoch 20/20\n",
      "101/101 [==============================] - 798s 8s/step - loss: 0.1917 - accuracy: 0.9239 - val_loss: 0.3739 - val_accuracy: 0.8197\n"
     ]
    },
    {
     "data": {
      "text/plain": [
       "<tensorflow.python.keras.callbacks.History at 0x11cf3a8b5c8>"
      ]
     },
     "execution_count": 33,
     "metadata": {},
     "output_type": "execute_result"
    }
   ],
   "source": [
    "model_4.fit(my_training_batch_generator,\n",
    "epochs=nb_epoch,steps_per_epoch=steps_per_epoch,\n",
    " verbose=1, validation_data=my_validation_batch_generator, \n",
    "validation_steps=validation_steps)"
   ]
  },
  {
   "cell_type": "code",
   "execution_count": 35,
   "metadata": {},
   "outputs": [
    {
     "name": "stdout",
     "output_type": "stream",
     "text": [
      "   3025/Unknown - 21803s 7s/step - loss: 0.3740 - accuracy: 0.8196"
     ]
    },
    {
     "ename": "KeyboardInterrupt",
     "evalue": "",
     "output_type": "error",
     "traceback": [
      "\u001b[1;31m---------------------------------------------------------------------------\u001b[0m",
      "\u001b[1;31mKeyboardInterrupt\u001b[0m                         Traceback (most recent call last)",
      "\u001b[1;32m<ipython-input-35-a7fea2fcf541>\u001b[0m in \u001b[0;36m<module>\u001b[1;34m\u001b[0m\n\u001b[1;32m----> 1\u001b[1;33m \u001b[0mloss\u001b[0m\u001b[1;33m,\u001b[0m\u001b[0macc\u001b[0m\u001b[1;33m=\u001b[0m\u001b[0mmodel_4\u001b[0m\u001b[1;33m.\u001b[0m\u001b[0mevaluate\u001b[0m\u001b[1;33m(\u001b[0m\u001b[0mmy_validation_batch_generator\u001b[0m\u001b[1;33m)\u001b[0m\u001b[1;33m\u001b[0m\u001b[1;33m\u001b[0m\u001b[0m\n\u001b[0m\u001b[0;32m      2\u001b[0m \u001b[0mprint\u001b[0m\u001b[1;33m(\u001b[0m\u001b[1;34m\"accuracy: {:5.2f}% \"\u001b[0m\u001b[1;33m.\u001b[0m\u001b[0mformat\u001b[0m\u001b[1;33m(\u001b[0m\u001b[1;36m100\u001b[0m\u001b[1;33m*\u001b[0m\u001b[0macc\u001b[0m\u001b[1;33m)\u001b[0m\u001b[1;33m)\u001b[0m\u001b[1;33m\u001b[0m\u001b[1;33m\u001b[0m\u001b[0m\n\u001b[0;32m      3\u001b[0m \u001b[0mprint\u001b[0m\u001b[1;33m(\u001b[0m\u001b[1;34m\"loss: {:5.2f}% \"\u001b[0m\u001b[1;33m.\u001b[0m\u001b[0mformat\u001b[0m\u001b[1;33m(\u001b[0m\u001b[1;36m100\u001b[0m\u001b[1;33m*\u001b[0m\u001b[0mloss\u001b[0m\u001b[1;33m)\u001b[0m\u001b[1;33m)\u001b[0m\u001b[1;33m\u001b[0m\u001b[1;33m\u001b[0m\u001b[0m\n",
      "\u001b[1;32m~\\anaconda3\\lib\\site-packages\\tensorflow\\python\\keras\\engine\\training.py\u001b[0m in \u001b[0;36mevaluate\u001b[1;34m(self, x, y, batch_size, verbose, sample_weight, steps, callbacks, max_queue_size, workers, use_multiprocessing, return_dict)\u001b[0m\n\u001b[0;32m   1387\u001b[0m             \u001b[1;32mwith\u001b[0m \u001b[0mtrace\u001b[0m\u001b[1;33m.\u001b[0m\u001b[0mTrace\u001b[0m\u001b[1;33m(\u001b[0m\u001b[1;34m'test'\u001b[0m\u001b[1;33m,\u001b[0m \u001b[0mstep_num\u001b[0m\u001b[1;33m=\u001b[0m\u001b[0mstep\u001b[0m\u001b[1;33m,\u001b[0m \u001b[0m_r\u001b[0m\u001b[1;33m=\u001b[0m\u001b[1;36m1\u001b[0m\u001b[1;33m)\u001b[0m\u001b[1;33m:\u001b[0m\u001b[1;33m\u001b[0m\u001b[1;33m\u001b[0m\u001b[0m\n\u001b[0;32m   1388\u001b[0m               \u001b[0mcallbacks\u001b[0m\u001b[1;33m.\u001b[0m\u001b[0mon_test_batch_begin\u001b[0m\u001b[1;33m(\u001b[0m\u001b[0mstep\u001b[0m\u001b[1;33m)\u001b[0m\u001b[1;33m\u001b[0m\u001b[1;33m\u001b[0m\u001b[0m\n\u001b[1;32m-> 1389\u001b[1;33m               \u001b[0mtmp_logs\u001b[0m \u001b[1;33m=\u001b[0m \u001b[0mself\u001b[0m\u001b[1;33m.\u001b[0m\u001b[0mtest_function\u001b[0m\u001b[1;33m(\u001b[0m\u001b[0miterator\u001b[0m\u001b[1;33m)\u001b[0m\u001b[1;33m\u001b[0m\u001b[1;33m\u001b[0m\u001b[0m\n\u001b[0m\u001b[0;32m   1390\u001b[0m               \u001b[1;32mif\u001b[0m \u001b[0mdata_handler\u001b[0m\u001b[1;33m.\u001b[0m\u001b[0mshould_sync\u001b[0m\u001b[1;33m:\u001b[0m\u001b[1;33m\u001b[0m\u001b[1;33m\u001b[0m\u001b[0m\n\u001b[0;32m   1391\u001b[0m                 \u001b[0mcontext\u001b[0m\u001b[1;33m.\u001b[0m\u001b[0masync_wait\u001b[0m\u001b[1;33m(\u001b[0m\u001b[1;33m)\u001b[0m\u001b[1;33m\u001b[0m\u001b[1;33m\u001b[0m\u001b[0m\n",
      "\u001b[1;32m~\\anaconda3\\lib\\site-packages\\tensorflow\\python\\eager\\def_function.py\u001b[0m in \u001b[0;36m__call__\u001b[1;34m(self, *args, **kwds)\u001b[0m\n\u001b[0;32m    826\u001b[0m     \u001b[0mtracing_count\u001b[0m \u001b[1;33m=\u001b[0m \u001b[0mself\u001b[0m\u001b[1;33m.\u001b[0m\u001b[0mexperimental_get_tracing_count\u001b[0m\u001b[1;33m(\u001b[0m\u001b[1;33m)\u001b[0m\u001b[1;33m\u001b[0m\u001b[1;33m\u001b[0m\u001b[0m\n\u001b[0;32m    827\u001b[0m     \u001b[1;32mwith\u001b[0m \u001b[0mtrace\u001b[0m\u001b[1;33m.\u001b[0m\u001b[0mTrace\u001b[0m\u001b[1;33m(\u001b[0m\u001b[0mself\u001b[0m\u001b[1;33m.\u001b[0m\u001b[0m_name\u001b[0m\u001b[1;33m)\u001b[0m \u001b[1;32mas\u001b[0m \u001b[0mtm\u001b[0m\u001b[1;33m:\u001b[0m\u001b[1;33m\u001b[0m\u001b[1;33m\u001b[0m\u001b[0m\n\u001b[1;32m--> 828\u001b[1;33m       \u001b[0mresult\u001b[0m \u001b[1;33m=\u001b[0m \u001b[0mself\u001b[0m\u001b[1;33m.\u001b[0m\u001b[0m_call\u001b[0m\u001b[1;33m(\u001b[0m\u001b[1;33m*\u001b[0m\u001b[0margs\u001b[0m\u001b[1;33m,\u001b[0m \u001b[1;33m**\u001b[0m\u001b[0mkwds\u001b[0m\u001b[1;33m)\u001b[0m\u001b[1;33m\u001b[0m\u001b[1;33m\u001b[0m\u001b[0m\n\u001b[0m\u001b[0;32m    829\u001b[0m       \u001b[0mcompiler\u001b[0m \u001b[1;33m=\u001b[0m \u001b[1;34m\"xla\"\u001b[0m \u001b[1;32mif\u001b[0m \u001b[0mself\u001b[0m\u001b[1;33m.\u001b[0m\u001b[0m_experimental_compile\u001b[0m \u001b[1;32melse\u001b[0m \u001b[1;34m\"nonXla\"\u001b[0m\u001b[1;33m\u001b[0m\u001b[1;33m\u001b[0m\u001b[0m\n\u001b[0;32m    830\u001b[0m       \u001b[0mnew_tracing_count\u001b[0m \u001b[1;33m=\u001b[0m \u001b[0mself\u001b[0m\u001b[1;33m.\u001b[0m\u001b[0mexperimental_get_tracing_count\u001b[0m\u001b[1;33m(\u001b[0m\u001b[1;33m)\u001b[0m\u001b[1;33m\u001b[0m\u001b[1;33m\u001b[0m\u001b[0m\n",
      "\u001b[1;32m~\\anaconda3\\lib\\site-packages\\tensorflow\\python\\eager\\def_function.py\u001b[0m in \u001b[0;36m_call\u001b[1;34m(self, *args, **kwds)\u001b[0m\n\u001b[0;32m    860\u001b[0m       \u001b[1;31m# In this case we have not created variables on the first call. So we can\u001b[0m\u001b[1;33m\u001b[0m\u001b[1;33m\u001b[0m\u001b[1;33m\u001b[0m\u001b[0m\n\u001b[0;32m    861\u001b[0m       \u001b[1;31m# run the first trace but we should fail if variables are created.\u001b[0m\u001b[1;33m\u001b[0m\u001b[1;33m\u001b[0m\u001b[1;33m\u001b[0m\u001b[0m\n\u001b[1;32m--> 862\u001b[1;33m       \u001b[0mresults\u001b[0m \u001b[1;33m=\u001b[0m \u001b[0mself\u001b[0m\u001b[1;33m.\u001b[0m\u001b[0m_stateful_fn\u001b[0m\u001b[1;33m(\u001b[0m\u001b[1;33m*\u001b[0m\u001b[0margs\u001b[0m\u001b[1;33m,\u001b[0m \u001b[1;33m**\u001b[0m\u001b[0mkwds\u001b[0m\u001b[1;33m)\u001b[0m\u001b[1;33m\u001b[0m\u001b[1;33m\u001b[0m\u001b[0m\n\u001b[0m\u001b[0;32m    863\u001b[0m       \u001b[1;32mif\u001b[0m \u001b[0mself\u001b[0m\u001b[1;33m.\u001b[0m\u001b[0m_created_variables\u001b[0m\u001b[1;33m:\u001b[0m\u001b[1;33m\u001b[0m\u001b[1;33m\u001b[0m\u001b[0m\n\u001b[0;32m    864\u001b[0m         raise ValueError(\"Creating variables on a non-first call to a function\"\n",
      "\u001b[1;32m~\\anaconda3\\lib\\site-packages\\tensorflow\\python\\eager\\function.py\u001b[0m in \u001b[0;36m__call__\u001b[1;34m(self, *args, **kwargs)\u001b[0m\n\u001b[0;32m   2941\u001b[0m        filtered_flat_args) = self._maybe_define_function(args, kwargs)\n\u001b[0;32m   2942\u001b[0m     return graph_function._call_flat(\n\u001b[1;32m-> 2943\u001b[1;33m         filtered_flat_args, captured_inputs=graph_function.captured_inputs)  # pylint: disable=protected-access\n\u001b[0m\u001b[0;32m   2944\u001b[0m \u001b[1;33m\u001b[0m\u001b[0m\n\u001b[0;32m   2945\u001b[0m   \u001b[1;33m@\u001b[0m\u001b[0mproperty\u001b[0m\u001b[1;33m\u001b[0m\u001b[1;33m\u001b[0m\u001b[0m\n",
      "\u001b[1;32m~\\anaconda3\\lib\\site-packages\\tensorflow\\python\\eager\\function.py\u001b[0m in \u001b[0;36m_call_flat\u001b[1;34m(self, args, captured_inputs, cancellation_manager)\u001b[0m\n\u001b[0;32m   1917\u001b[0m       \u001b[1;31m# No tape is watching; skip to running the function.\u001b[0m\u001b[1;33m\u001b[0m\u001b[1;33m\u001b[0m\u001b[1;33m\u001b[0m\u001b[0m\n\u001b[0;32m   1918\u001b[0m       return self._build_call_outputs(self._inference_function.call(\n\u001b[1;32m-> 1919\u001b[1;33m           ctx, args, cancellation_manager=cancellation_manager))\n\u001b[0m\u001b[0;32m   1920\u001b[0m     forward_backward = self._select_forward_and_backward_functions(\n\u001b[0;32m   1921\u001b[0m         \u001b[0margs\u001b[0m\u001b[1;33m,\u001b[0m\u001b[1;33m\u001b[0m\u001b[1;33m\u001b[0m\u001b[0m\n",
      "\u001b[1;32m~\\anaconda3\\lib\\site-packages\\tensorflow\\python\\eager\\function.py\u001b[0m in \u001b[0;36mcall\u001b[1;34m(self, ctx, args, cancellation_manager)\u001b[0m\n\u001b[0;32m    558\u001b[0m               \u001b[0minputs\u001b[0m\u001b[1;33m=\u001b[0m\u001b[0margs\u001b[0m\u001b[1;33m,\u001b[0m\u001b[1;33m\u001b[0m\u001b[1;33m\u001b[0m\u001b[0m\n\u001b[0;32m    559\u001b[0m               \u001b[0mattrs\u001b[0m\u001b[1;33m=\u001b[0m\u001b[0mattrs\u001b[0m\u001b[1;33m,\u001b[0m\u001b[1;33m\u001b[0m\u001b[1;33m\u001b[0m\u001b[0m\n\u001b[1;32m--> 560\u001b[1;33m               ctx=ctx)\n\u001b[0m\u001b[0;32m    561\u001b[0m         \u001b[1;32melse\u001b[0m\u001b[1;33m:\u001b[0m\u001b[1;33m\u001b[0m\u001b[1;33m\u001b[0m\u001b[0m\n\u001b[0;32m    562\u001b[0m           outputs = execute.execute_with_cancellation(\n",
      "\u001b[1;32m~\\anaconda3\\lib\\site-packages\\tensorflow\\python\\eager\\execute.py\u001b[0m in \u001b[0;36mquick_execute\u001b[1;34m(op_name, num_outputs, inputs, attrs, ctx, name)\u001b[0m\n\u001b[0;32m     58\u001b[0m     \u001b[0mctx\u001b[0m\u001b[1;33m.\u001b[0m\u001b[0mensure_initialized\u001b[0m\u001b[1;33m(\u001b[0m\u001b[1;33m)\u001b[0m\u001b[1;33m\u001b[0m\u001b[1;33m\u001b[0m\u001b[0m\n\u001b[0;32m     59\u001b[0m     tensors = pywrap_tfe.TFE_Py_Execute(ctx._handle, device_name, op_name,\n\u001b[1;32m---> 60\u001b[1;33m                                         inputs, attrs, num_outputs)\n\u001b[0m\u001b[0;32m     61\u001b[0m   \u001b[1;32mexcept\u001b[0m \u001b[0mcore\u001b[0m\u001b[1;33m.\u001b[0m\u001b[0m_NotOkStatusException\u001b[0m \u001b[1;32mas\u001b[0m \u001b[0me\u001b[0m\u001b[1;33m:\u001b[0m\u001b[1;33m\u001b[0m\u001b[1;33m\u001b[0m\u001b[0m\n\u001b[0;32m     62\u001b[0m     \u001b[1;32mif\u001b[0m \u001b[0mname\u001b[0m \u001b[1;32mis\u001b[0m \u001b[1;32mnot\u001b[0m \u001b[1;32mNone\u001b[0m\u001b[1;33m:\u001b[0m\u001b[1;33m\u001b[0m\u001b[1;33m\u001b[0m\u001b[0m\n",
      "\u001b[1;31mKeyboardInterrupt\u001b[0m: "
     ]
    }
   ],
   "source": [
    "loss,acc=model_4.evaluate(my_validation_batch_generator)\n",
    "print(\"accuracy: {:5.2f}% \".format(100*acc))\n",
    "print(\"loss: {:5.2f}% \".format(100*loss))"
   ]
  },
  {
   "cell_type": "code",
   "execution_count": 34,
   "metadata": {},
   "outputs": [
    {
     "name": "stdout",
     "output_type": "stream",
     "text": [
      "INFO:tensorflow:Assets written to: model_DENSE\\assets\n"
     ]
    }
   ],
   "source": [
    "model_4.save('model_DENSE')"
   ]
  },
  {
   "cell_type": "code",
   "execution_count": null,
   "metadata": {},
   "outputs": [],
   "source": []
  },
  {
   "cell_type": "markdown",
   "metadata": {},
   "source": [
    "# TEST"
   ]
  },
  {
   "cell_type": "code",
   "execution_count": 46,
   "metadata": {},
   "outputs": [],
   "source": [
    "#Read features from the pickled files\n",
    "X_list = []\n",
    "Y_list = []\n",
    "\n",
    "prep_files = [fn for fn in os.listdir(\"C:\\\\Users\\\\21655\\\\Desktop\\\\Projet\\\\Processed_Data\\\\\")]\n",
    "\n",
    "for f in prep_files[:25]:\n",
    "   with open(\"C:\\\\Users\\\\21655\\\\Desktop\\\\Projet\\\\Processed_Data\\\\\" + f, 'rb') as f:\n",
    "    X_f, Y_f = pickle.load(f)\n",
    "    X_list.extend(X_f)\n",
    "    Y_list.extend(Y_f)\n",
    "    f.close()"
   ]
  },
  {
   "cell_type": "code",
   "execution_count": 47,
   "metadata": {},
   "outputs": [
    {
     "data": {
      "text/plain": [
       "889"
      ]
     },
     "execution_count": 47,
     "metadata": {},
     "output_type": "execute_result"
    }
   ],
   "source": [
    "len(X_list)\n",
    "len(Y_list)"
   ]
  },
  {
   "cell_type": "code",
   "execution_count": 48,
   "metadata": {},
   "outputs": [],
   "source": [
    "X = np.asarray(X_list)\n",
    "X = X.reshape(X.shape[0], X.shape[1])\n",
    "\n",
    "Y = np.asarray(Y_list)\n",
    "Y = Y.reshape(Y.shape[0],1)"
   ]
  },
  {
   "cell_type": "code",
   "execution_count": 49,
   "metadata": {},
   "outputs": [
    {
     "data": {
      "text/plain": [
       "(889, 105000)"
      ]
     },
     "execution_count": 49,
     "metadata": {},
     "output_type": "execute_result"
    }
   ],
   "source": [
    "X.shape"
   ]
  },
  {
   "cell_type": "code",
   "execution_count": 50,
   "metadata": {},
   "outputs": [
    {
     "data": {
      "text/plain": [
       "(889, 1)"
      ]
     },
     "execution_count": 50,
     "metadata": {},
     "output_type": "execute_result"
    }
   ],
   "source": [
    "Y.shape"
   ]
  },
  {
   "cell_type": "code",
   "execution_count": 51,
   "metadata": {},
   "outputs": [],
   "source": [
    "import sklearn.linear_model\n",
    "\n",
    "import sklearn.metrics\n",
    "from sklearn.preprocessing import StandardScaler"
   ]
  },
  {
   "cell_type": "code",
   "execution_count": 52,
   "metadata": {},
   "outputs": [],
   "source": [
    "#Normalizing the feature values (very important for NNs)\n",
    "scaler = StandardScaler()\n",
    "X = scaler.fit_transform(X)"
   ]
  },
  {
   "cell_type": "code",
   "execution_count": 53,
   "metadata": {},
   "outputs": [],
   "source": [
    "#Splitting into train/test sets\n",
    "from sklearn.model_selection import train_test_split\n",
    "\n",
    "X_train, X_test, Y_train, Y_test = train_test_split(X, Y, test_size=0.2, random_state=42)"
   ]
  },
  {
   "cell_type": "code",
   "execution_count": 54,
   "metadata": {},
   "outputs": [],
   "source": [
    "import keras\n",
    "import keras.backend as K\n",
    "from keras.models import Sequential\n",
    "from keras.layers import Dense, Activation, LSTM, Dropout, BatchNormalization"
   ]
  },
  {
   "cell_type": "code",
   "execution_count": 55,
   "metadata": {},
   "outputs": [],
   "source": [
    "#Topology\n",
    "model = Sequential()\n",
    "\n",
    "model.add(Dense(100, input_dim=105000))\n",
    "model.add(BatchNormalization())\n",
    "model.add(Activation('relu'))\n",
    "model.add(Dropout(0.2))\n",
    "\n",
    "model.add(Dense(700))\n",
    "model.add(BatchNormalization())\n",
    "model.add(Activation('relu'))\n",
    "model.add(Dropout(0.2))\n",
    "\n",
    "model.add(Dense(1))\n",
    "model.add(Activation('sigmoid'))"
   ]
  },
  {
   "cell_type": "code",
   "execution_count": 42,
   "metadata": {},
   "outputs": [],
   "source": [
    "X_train = np.reshape(X_train, (X_train.shape[0],1,X.shape[1]))\n",
    "X_test = np.reshape(X_test, (X_test.shape[0],1,X.shape[1]))"
   ]
  },
  {
   "cell_type": "code",
   "execution_count": 56,
   "metadata": {},
   "outputs": [],
   "source": [
    "adam = keras.optimizers.Adam(lr=0.1, beta_1=0.9, beta_2=0.999, epsilon=None, decay=0.0, amsgrad=False)\n",
    "model.compile(loss='binary_crossentropy', optimizer='adam', metrics=['accuracy'])"
   ]
  },
  {
   "cell_type": "code",
   "execution_count": null,
   "metadata": {},
   "outputs": [],
   "source": []
  },
  {
   "cell_type": "code",
   "execution_count": 40,
   "metadata": {},
   "outputs": [],
   "source": [
    "model = Sequential()\n",
    "model.add(LSTM(4, stateful=True, return_sequences=False,input_shape=(1,105000), batch_size=1))\n",
    "model.add(Dense(1, activation='sigmoid'))\n",
    "model.compile(loss='mse', optimizer='adam')"
   ]
  },
  {
   "cell_type": "code",
   "execution_count": 57,
   "metadata": {},
   "outputs": [
    {
     "name": "stdout",
     "output_type": "stream",
     "text": [
      "Epoch 1/100\n",
      "1/1 [==============================] - 42s 42s/step - loss: 0.8302 - accuracy: 0.4923\n",
      "Epoch 2/100\n",
      "1/1 [==============================] - 1s 727ms/step - loss: 0.7816 - accuracy: 0.4008\n",
      "Epoch 3/100\n",
      "1/1 [==============================] - 0s 377ms/step - loss: 0.5502 - accuracy: 0.8425\n",
      "Epoch 4/100\n",
      "1/1 [==============================] - 0s 355ms/step - loss: 0.4207 - accuracy: 0.9128\n",
      "Epoch 5/100\n",
      "1/1 [==============================] - 0s 322ms/step - loss: 0.3487 - accuracy: 0.9578\n",
      "Epoch 6/100\n",
      "1/1 [==============================] - 0s 355ms/step - loss: 0.2725 - accuracy: 0.9831\n",
      "Epoch 7/100\n",
      "1/1 [==============================] - 0s 415ms/step - loss: 0.2140 - accuracy: 0.9873\n",
      "Epoch 8/100\n",
      "1/1 [==============================] - 0s 363ms/step - loss: 0.1623 - accuracy: 0.9986\n",
      "Epoch 9/100\n",
      "1/1 [==============================] - 0s 369ms/step - loss: 0.1440 - accuracy: 0.9930\n",
      "Epoch 10/100\n",
      "1/1 [==============================] - 0s 446ms/step - loss: 0.1103 - accuracy: 0.9944\n",
      "Epoch 11/100\n",
      "1/1 [==============================] - 0s 367ms/step - loss: 0.0925 - accuracy: 0.9972\n",
      "Epoch 12/100\n",
      "1/1 [==============================] - 0s 396ms/step - loss: 0.0722 - accuracy: 1.0000\n",
      "Epoch 13/100\n",
      "1/1 [==============================] - 0s 388ms/step - loss: 0.0594 - accuracy: 1.0000\n",
      "Epoch 14/100\n",
      "1/1 [==============================] - 0s 375ms/step - loss: 0.0538 - accuracy: 1.0000\n",
      "Epoch 15/100\n",
      "1/1 [==============================] - 0s 408ms/step - loss: 0.0457 - accuracy: 1.0000\n",
      "Epoch 16/100\n",
      "1/1 [==============================] - 0s 379ms/step - loss: 0.0381 - accuracy: 1.0000\n",
      "Epoch 17/100\n",
      "1/1 [==============================] - 0s 425ms/step - loss: 0.0333 - accuracy: 1.0000\n",
      "Epoch 18/100\n",
      "1/1 [==============================] - 0s 385ms/step - loss: 0.0287 - accuracy: 1.0000\n",
      "Epoch 19/100\n",
      "1/1 [==============================] - 0s 385ms/step - loss: 0.0248 - accuracy: 1.0000\n",
      "Epoch 20/100\n",
      "1/1 [==============================] - 0s 390ms/step - loss: 0.0235 - accuracy: 1.0000\n",
      "Epoch 21/100\n",
      "1/1 [==============================] - 0s 424ms/step - loss: 0.0203 - accuracy: 1.0000\n",
      "Epoch 22/100\n",
      "1/1 [==============================] - 0s 418ms/step - loss: 0.0190 - accuracy: 1.0000\n",
      "Epoch 23/100\n",
      "1/1 [==============================] - 1s 503ms/step - loss: 0.0165 - accuracy: 1.0000\n",
      "Epoch 24/100\n",
      "1/1 [==============================] - 0s 384ms/step - loss: 0.0155 - accuracy: 1.0000\n",
      "Epoch 25/100\n",
      "1/1 [==============================] - 0s 380ms/step - loss: 0.0149 - accuracy: 1.0000\n",
      "Epoch 26/100\n",
      "1/1 [==============================] - 0s 398ms/step - loss: 0.0131 - accuracy: 1.0000\n",
      "Epoch 27/100\n",
      "1/1 [==============================] - 0s 394ms/step - loss: 0.0117 - accuracy: 1.0000\n",
      "Epoch 28/100\n",
      "1/1 [==============================] - 0s 393ms/step - loss: 0.0109 - accuracy: 1.0000\n",
      "Epoch 29/100\n",
      "1/1 [==============================] - 0s 372ms/step - loss: 0.0112 - accuracy: 1.0000\n",
      "Epoch 30/100\n",
      "1/1 [==============================] - 0s 380ms/step - loss: 0.0100 - accuracy: 1.0000\n",
      "Epoch 31/100\n",
      "1/1 [==============================] - 0s 384ms/step - loss: 0.0090 - accuracy: 1.0000\n",
      "Epoch 32/100\n",
      "1/1 [==============================] - 0s 385ms/step - loss: 0.0087 - accuracy: 1.0000\n",
      "Epoch 33/100\n",
      "1/1 [==============================] - 0s 386ms/step - loss: 0.0079 - accuracy: 1.0000\n",
      "Epoch 34/100\n",
      "1/1 [==============================] - 0s 367ms/step - loss: 0.0079 - accuracy: 1.0000\n",
      "Epoch 35/100\n",
      "1/1 [==============================] - 0s 380ms/step - loss: 0.0074 - accuracy: 1.0000\n",
      "Epoch 36/100\n",
      "1/1 [==============================] - 0s 375ms/step - loss: 0.0069 - accuracy: 1.0000\n",
      "Epoch 37/100\n",
      "1/1 [==============================] - 0s 383ms/step - loss: 0.0075 - accuracy: 1.0000\n",
      "Epoch 38/100\n",
      "1/1 [==============================] - 0s 412ms/step - loss: 0.0064 - accuracy: 1.0000\n",
      "Epoch 39/100\n",
      "1/1 [==============================] - 0s 383ms/step - loss: 0.0062 - accuracy: 1.0000\n",
      "Epoch 40/100\n",
      "1/1 [==============================] - 1s 505ms/step - loss: 0.0066 - accuracy: 1.0000\n",
      "Epoch 41/100\n",
      "1/1 [==============================] - 0s 431ms/step - loss: 0.0058 - accuracy: 1.0000\n",
      "Epoch 42/100\n",
      "1/1 [==============================] - 0s 393ms/step - loss: 0.0060 - accuracy: 1.0000\n",
      "Epoch 43/100\n",
      "1/1 [==============================] - 0s 394ms/step - loss: 0.0054 - accuracy: 1.0000\n",
      "Epoch 44/100\n",
      "1/1 [==============================] - 0s 379ms/step - loss: 0.0083 - accuracy: 0.9986\n",
      "Epoch 45/100\n",
      "1/1 [==============================] - 0s 389ms/step - loss: 0.0051 - accuracy: 1.0000\n",
      "Epoch 46/100\n",
      "1/1 [==============================] - 0s 378ms/step - loss: 0.0051 - accuracy: 1.0000\n",
      "Epoch 47/100\n",
      "1/1 [==============================] - 0s 377ms/step - loss: 0.0055 - accuracy: 1.0000\n",
      "Epoch 48/100\n",
      "1/1 [==============================] - 0s 381ms/step - loss: 0.0049 - accuracy: 1.0000\n",
      "Epoch 49/100\n",
      "1/1 [==============================] - 0s 380ms/step - loss: 0.0048 - accuracy: 1.0000\n",
      "Epoch 50/100\n",
      "1/1 [==============================] - 0s 367ms/step - loss: 0.0049 - accuracy: 1.0000\n",
      "Epoch 51/100\n",
      "1/1 [==============================] - 0s 393ms/step - loss: 0.0048 - accuracy: 1.0000\n",
      "Epoch 52/100\n",
      "1/1 [==============================] - 0s 391ms/step - loss: 0.0049 - accuracy: 1.0000\n",
      "Epoch 53/100\n",
      "1/1 [==============================] - 0s 444ms/step - loss: 0.0045 - accuracy: 1.0000\n",
      "Epoch 54/100\n",
      "1/1 [==============================] - 0s 359ms/step - loss: 0.0046 - accuracy: 1.0000\n",
      "Epoch 55/100\n",
      "1/1 [==============================] - 0s 367ms/step - loss: 0.0043 - accuracy: 1.0000\n",
      "Epoch 56/100\n",
      "1/1 [==============================] - 0s 365ms/step - loss: 0.0046 - accuracy: 1.0000\n",
      "Epoch 57/100\n",
      "1/1 [==============================] - 0s 359ms/step - loss: 0.0046 - accuracy: 1.0000\n",
      "Epoch 58/100\n",
      "1/1 [==============================] - 0s 361ms/step - loss: 0.0041 - accuracy: 1.0000\n",
      "Epoch 59/100\n",
      "1/1 [==============================] - 0s 360ms/step - loss: 0.0044 - accuracy: 1.0000\n",
      "Epoch 60/100\n",
      "1/1 [==============================] - 0s 358ms/step - loss: 0.0041 - accuracy: 1.0000\n",
      "Epoch 61/100\n",
      "1/1 [==============================] - 0s 364ms/step - loss: 0.0042 - accuracy: 1.0000\n",
      "Epoch 62/100\n",
      "1/1 [==============================] - 0s 350ms/step - loss: 0.0043 - accuracy: 1.0000\n",
      "Epoch 63/100\n",
      "1/1 [==============================] - 0s 369ms/step - loss: 0.0043 - accuracy: 1.0000\n",
      "Epoch 64/100\n",
      "1/1 [==============================] - 0s 412ms/step - loss: 0.0040 - accuracy: 1.0000\n",
      "Epoch 65/100\n",
      "1/1 [==============================] - 0s 358ms/step - loss: 0.0039 - accuracy: 1.0000\n",
      "Epoch 66/100\n",
      "1/1 [==============================] - 0s 365ms/step - loss: 0.0037 - accuracy: 1.0000\n",
      "Epoch 67/100\n",
      "1/1 [==============================] - 0s 366ms/step - loss: 0.0038 - accuracy: 1.0000\n",
      "Epoch 68/100\n",
      "1/1 [==============================] - 0s 378ms/step - loss: 0.0039 - accuracy: 1.0000\n",
      "Epoch 69/100\n",
      "1/1 [==============================] - 0s 364ms/step - loss: 0.0035 - accuracy: 1.0000\n",
      "Epoch 70/100\n",
      "1/1 [==============================] - 0s 360ms/step - loss: 0.0039 - accuracy: 1.0000\n",
      "Epoch 71/100\n",
      "1/1 [==============================] - 0s 398ms/step - loss: 0.0034 - accuracy: 1.0000\n",
      "Epoch 72/100\n",
      "1/1 [==============================] - 0s 395ms/step - loss: 0.0035 - accuracy: 1.0000\n",
      "Epoch 73/100\n",
      "1/1 [==============================] - 0s 371ms/step - loss: 0.0035 - accuracy: 1.0000\n",
      "Epoch 74/100\n",
      "1/1 [==============================] - 0s 362ms/step - loss: 0.0033 - accuracy: 1.0000\n",
      "Epoch 75/100\n",
      "1/1 [==============================] - 0s 352ms/step - loss: 0.0034 - accuracy: 1.0000\n",
      "Epoch 76/100\n",
      "1/1 [==============================] - 0s 363ms/step - loss: 0.0036 - accuracy: 1.0000\n",
      "Epoch 77/100\n",
      "1/1 [==============================] - 0s 369ms/step - loss: 0.0031 - accuracy: 1.0000\n",
      "Epoch 78/100\n",
      "1/1 [==============================] - 0s 349ms/step - loss: 0.0033 - accuracy: 1.0000\n",
      "Epoch 79/100\n",
      "1/1 [==============================] - 0s 363ms/step - loss: 0.0031 - accuracy: 1.0000\n",
      "Epoch 80/100\n",
      "1/1 [==============================] - 0s 388ms/step - loss: 0.0031 - accuracy: 1.0000\n",
      "Epoch 81/100\n",
      "1/1 [==============================] - 0s 362ms/step - loss: 0.0032 - accuracy: 1.0000\n",
      "Epoch 82/100\n",
      "1/1 [==============================] - 0s 371ms/step - loss: 0.0030 - accuracy: 1.0000\n",
      "Epoch 83/100\n",
      "1/1 [==============================] - 0s 399ms/step - loss: 0.0033 - accuracy: 1.0000\n",
      "Epoch 84/100\n",
      "1/1 [==============================] - 0s 406ms/step - loss: 0.0029 - accuracy: 1.0000\n",
      "Epoch 85/100\n",
      "1/1 [==============================] - 0s 408ms/step - loss: 0.0029 - accuracy: 1.0000\n",
      "Epoch 86/100\n",
      "1/1 [==============================] - 0s 393ms/step - loss: 0.0029 - accuracy: 1.0000\n",
      "Epoch 87/100\n",
      "1/1 [==============================] - 0s 377ms/step - loss: 0.0029 - accuracy: 1.0000\n",
      "Epoch 88/100\n",
      "1/1 [==============================] - 0s 379ms/step - loss: 0.0028 - accuracy: 1.0000\n",
      "Epoch 89/100\n",
      "1/1 [==============================] - 0s 372ms/step - loss: 0.0029 - accuracy: 1.0000\n",
      "Epoch 90/100\n",
      "1/1 [==============================] - 0s 380ms/step - loss: 0.0028 - accuracy: 1.0000\n",
      "Epoch 91/100\n",
      "1/1 [==============================] - 0s 399ms/step - loss: 0.0028 - accuracy: 1.0000\n",
      "Epoch 92/100\n",
      "1/1 [==============================] - 0s 397ms/step - loss: 0.0027 - accuracy: 1.0000\n",
      "Epoch 93/100\n",
      "1/1 [==============================] - 0s 408ms/step - loss: 0.0027 - accuracy: 1.0000\n",
      "Epoch 94/100\n",
      "1/1 [==============================] - 0s 395ms/step - loss: 0.0026 - accuracy: 1.0000\n",
      "Epoch 95/100\n",
      "1/1 [==============================] - 0s 383ms/step - loss: 0.0025 - accuracy: 1.0000\n",
      "Epoch 96/100\n",
      "1/1 [==============================] - 0s 361ms/step - loss: 0.0027 - accuracy: 1.0000\n",
      "Epoch 97/100\n",
      "1/1 [==============================] - 0s 351ms/step - loss: 0.0027 - accuracy: 1.0000\n",
      "Epoch 98/100\n",
      "1/1 [==============================] - 0s 295ms/step - loss: 0.0026 - accuracy: 1.0000\n",
      "Epoch 99/100\n",
      "1/1 [==============================] - 0s 307ms/step - loss: 0.0026 - accuracy: 1.0000\n",
      "Epoch 100/100\n",
      "1/1 [==============================] - 0s 314ms/step - loss: 0.0027 - accuracy: 1.0000\n",
      "6/6 [==============================] - 3s 45ms/step - loss: 0.0392 - accuracy: 1.0000\n"
     ]
    }
   ],
   "source": [
    "#train the model\n",
    "model.fit(X_train, Y_train, epochs=100, batch_size=1024)\n",
    "score, acc = model.evaluate(X_test, Y_test)"
   ]
  },
  {
   "cell_type": "code",
   "execution_count": 58,
   "metadata": {},
   "outputs": [
    {
     "name": "stderr",
     "output_type": "stream",
     "text": [
      "C:\\Users\\21655\\anaconda3\\lib\\site-packages\\tensorflow\\python\\keras\\engine\\sequential.py:450: UserWarning: `model.predict_classes()` is deprecated and will be removed after 2021-01-01. Please use instead:* `np.argmax(model.predict(x), axis=-1)`,   if your model does multi-class classification   (e.g. if it uses a `softmax` last-layer activation).* `(model.predict(x) > 0.5).astype(\"int32\")`,   if your model does binary classification   (e.g. if it uses a `sigmoid` last-layer activation).\n",
      "  warnings.warn('`model.predict_classes()` is deprecated and '\n"
     ]
    }
   ],
   "source": [
    "#Get predictions for the test set\n",
    "ytest = model.predict_classes(X_test)"
   ]
  },
  {
   "cell_type": "code",
   "execution_count": 61,
   "metadata": {},
   "outputs": [
    {
     "name": "stdout",
     "output_type": "stream",
     "text": [
      "INFO:tensorflow:Assets written to: model_test\\assets\n"
     ]
    }
   ],
   "source": [
    "model.save('model_test')"
   ]
  },
  {
   "cell_type": "code",
   "execution_count": 63,
   "metadata": {},
   "outputs": [
    {
     "name": "stdout",
     "output_type": "stream",
     "text": [
      "              precision    recall  f1-score   support\n",
      "\n",
      "           1       1.00      1.00      1.00       178\n",
      "\n",
      "    accuracy                           1.00       178\n",
      "   macro avg       1.00      1.00      1.00       178\n",
      "weighted avg       1.00      1.00      1.00       178\n",
      "\n"
     ]
    },
    {
     "ename": "ValueError",
     "evalue": "Only one class present in y_true. ROC AUC score is not defined in that case.",
     "output_type": "error",
     "traceback": [
      "\u001b[1;31m---------------------------------------------------------------------------\u001b[0m",
      "\u001b[1;31mValueError\u001b[0m                                Traceback (most recent call last)",
      "\u001b[1;32m<ipython-input-63-f4db571c7088>\u001b[0m in \u001b[0;36m<module>\u001b[1;34m\u001b[0m\n\u001b[0;32m      1\u001b[0m \u001b[1;32mfrom\u001b[0m \u001b[0msklearn\u001b[0m\u001b[1;33m.\u001b[0m\u001b[0mmetrics\u001b[0m \u001b[1;32mimport\u001b[0m \u001b[0mclassification_report\u001b[0m\u001b[1;33m,\u001b[0m \u001b[0mroc_auc_score\u001b[0m\u001b[1;33m\u001b[0m\u001b[1;33m\u001b[0m\u001b[0m\n\u001b[0;32m      2\u001b[0m \u001b[0mprint\u001b[0m\u001b[1;33m(\u001b[0m\u001b[0mclassification_report\u001b[0m\u001b[1;33m(\u001b[0m\u001b[0mY_test\u001b[0m\u001b[1;33m,\u001b[0m \u001b[0mytest\u001b[0m\u001b[1;33m)\u001b[0m\u001b[1;33m)\u001b[0m\u001b[1;33m\u001b[0m\u001b[1;33m\u001b[0m\u001b[0m\n\u001b[1;32m----> 3\u001b[1;33m \u001b[0mprint\u001b[0m\u001b[1;33m(\u001b[0m\u001b[0mroc_auc_score\u001b[0m\u001b[1;33m(\u001b[0m\u001b[0mY_test\u001b[0m\u001b[1;33m,\u001b[0m \u001b[0mytest\u001b[0m\u001b[1;33m)\u001b[0m\u001b[1;33m)\u001b[0m\u001b[1;33m\u001b[0m\u001b[1;33m\u001b[0m\u001b[0m\n\u001b[0m",
      "\u001b[1;32m~\\anaconda3\\lib\\site-packages\\sklearn\\utils\\validation.py\u001b[0m in \u001b[0;36minner_f\u001b[1;34m(*args, **kwargs)\u001b[0m\n\u001b[0;32m     70\u001b[0m                           FutureWarning)\n\u001b[0;32m     71\u001b[0m         \u001b[0mkwargs\u001b[0m\u001b[1;33m.\u001b[0m\u001b[0mupdate\u001b[0m\u001b[1;33m(\u001b[0m\u001b[1;33m{\u001b[0m\u001b[0mk\u001b[0m\u001b[1;33m:\u001b[0m \u001b[0marg\u001b[0m \u001b[1;32mfor\u001b[0m \u001b[0mk\u001b[0m\u001b[1;33m,\u001b[0m \u001b[0marg\u001b[0m \u001b[1;32min\u001b[0m \u001b[0mzip\u001b[0m\u001b[1;33m(\u001b[0m\u001b[0msig\u001b[0m\u001b[1;33m.\u001b[0m\u001b[0mparameters\u001b[0m\u001b[1;33m,\u001b[0m \u001b[0margs\u001b[0m\u001b[1;33m)\u001b[0m\u001b[1;33m}\u001b[0m\u001b[1;33m)\u001b[0m\u001b[1;33m\u001b[0m\u001b[1;33m\u001b[0m\u001b[0m\n\u001b[1;32m---> 72\u001b[1;33m         \u001b[1;32mreturn\u001b[0m \u001b[0mf\u001b[0m\u001b[1;33m(\u001b[0m\u001b[1;33m**\u001b[0m\u001b[0mkwargs\u001b[0m\u001b[1;33m)\u001b[0m\u001b[1;33m\u001b[0m\u001b[1;33m\u001b[0m\u001b[0m\n\u001b[0m\u001b[0;32m     73\u001b[0m     \u001b[1;32mreturn\u001b[0m \u001b[0minner_f\u001b[0m\u001b[1;33m\u001b[0m\u001b[1;33m\u001b[0m\u001b[0m\n\u001b[0;32m     74\u001b[0m \u001b[1;33m\u001b[0m\u001b[0m\n",
      "\u001b[1;32m~\\anaconda3\\lib\\site-packages\\sklearn\\metrics\\_ranking.py\u001b[0m in \u001b[0;36mroc_auc_score\u001b[1;34m(y_true, y_score, average, sample_weight, max_fpr, multi_class, labels)\u001b[0m\n\u001b[0;32m    391\u001b[0m                                              max_fpr=max_fpr),\n\u001b[0;32m    392\u001b[0m                                      \u001b[0my_true\u001b[0m\u001b[1;33m,\u001b[0m \u001b[0my_score\u001b[0m\u001b[1;33m,\u001b[0m \u001b[0maverage\u001b[0m\u001b[1;33m,\u001b[0m\u001b[1;33m\u001b[0m\u001b[1;33m\u001b[0m\u001b[0m\n\u001b[1;32m--> 393\u001b[1;33m                                      sample_weight=sample_weight)\n\u001b[0m\u001b[0;32m    394\u001b[0m     \u001b[1;32melse\u001b[0m\u001b[1;33m:\u001b[0m  \u001b[1;31m# multilabel-indicator\u001b[0m\u001b[1;33m\u001b[0m\u001b[1;33m\u001b[0m\u001b[0m\n\u001b[0;32m    395\u001b[0m         return _average_binary_score(partial(_binary_roc_auc_score,\n",
      "\u001b[1;32m~\\anaconda3\\lib\\site-packages\\sklearn\\metrics\\_base.py\u001b[0m in \u001b[0;36m_average_binary_score\u001b[1;34m(binary_metric, y_true, y_score, average, sample_weight)\u001b[0m\n\u001b[0;32m     75\u001b[0m \u001b[1;33m\u001b[0m\u001b[0m\n\u001b[0;32m     76\u001b[0m     \u001b[1;32mif\u001b[0m \u001b[0my_type\u001b[0m \u001b[1;33m==\u001b[0m \u001b[1;34m\"binary\"\u001b[0m\u001b[1;33m:\u001b[0m\u001b[1;33m\u001b[0m\u001b[1;33m\u001b[0m\u001b[0m\n\u001b[1;32m---> 77\u001b[1;33m         \u001b[1;32mreturn\u001b[0m \u001b[0mbinary_metric\u001b[0m\u001b[1;33m(\u001b[0m\u001b[0my_true\u001b[0m\u001b[1;33m,\u001b[0m \u001b[0my_score\u001b[0m\u001b[1;33m,\u001b[0m \u001b[0msample_weight\u001b[0m\u001b[1;33m=\u001b[0m\u001b[0msample_weight\u001b[0m\u001b[1;33m)\u001b[0m\u001b[1;33m\u001b[0m\u001b[1;33m\u001b[0m\u001b[0m\n\u001b[0m\u001b[0;32m     78\u001b[0m \u001b[1;33m\u001b[0m\u001b[0m\n\u001b[0;32m     79\u001b[0m     \u001b[0mcheck_consistent_length\u001b[0m\u001b[1;33m(\u001b[0m\u001b[0my_true\u001b[0m\u001b[1;33m,\u001b[0m \u001b[0my_score\u001b[0m\u001b[1;33m,\u001b[0m \u001b[0msample_weight\u001b[0m\u001b[1;33m)\u001b[0m\u001b[1;33m\u001b[0m\u001b[1;33m\u001b[0m\u001b[0m\n",
      "\u001b[1;32m~\\anaconda3\\lib\\site-packages\\sklearn\\metrics\\_ranking.py\u001b[0m in \u001b[0;36m_binary_roc_auc_score\u001b[1;34m(y_true, y_score, sample_weight, max_fpr)\u001b[0m\n\u001b[0;32m    221\u001b[0m     \u001b[1;34m\"\"\"Binary roc auc score\"\"\"\u001b[0m\u001b[1;33m\u001b[0m\u001b[1;33m\u001b[0m\u001b[0m\n\u001b[0;32m    222\u001b[0m     \u001b[1;32mif\u001b[0m \u001b[0mlen\u001b[0m\u001b[1;33m(\u001b[0m\u001b[0mnp\u001b[0m\u001b[1;33m.\u001b[0m\u001b[0munique\u001b[0m\u001b[1;33m(\u001b[0m\u001b[0my_true\u001b[0m\u001b[1;33m)\u001b[0m\u001b[1;33m)\u001b[0m \u001b[1;33m!=\u001b[0m \u001b[1;36m2\u001b[0m\u001b[1;33m:\u001b[0m\u001b[1;33m\u001b[0m\u001b[1;33m\u001b[0m\u001b[0m\n\u001b[1;32m--> 223\u001b[1;33m         raise ValueError(\"Only one class present in y_true. ROC AUC score \"\n\u001b[0m\u001b[0;32m    224\u001b[0m                          \"is not defined in that case.\")\n\u001b[0;32m    225\u001b[0m \u001b[1;33m\u001b[0m\u001b[0m\n",
      "\u001b[1;31mValueError\u001b[0m: Only one class present in y_true. ROC AUC score is not defined in that case."
     ]
    }
   ],
   "source": [
    "from sklearn.metrics import classification_report, roc_auc_score\n",
    "print(classification_report(Y_test, ytest))\n",
    "print(roc_auc_score(Y_test, ytest))"
   ]
  },
  {
   "cell_type": "code",
   "execution_count": null,
   "metadata": {},
   "outputs": [],
   "source": []
  },
  {
   "cell_type": "code",
   "execution_count": null,
   "metadata": {},
   "outputs": [],
   "source": []
  },
  {
   "cell_type": "code",
   "execution_count": null,
   "metadata": {},
   "outputs": [],
   "source": []
  }
 ],
 "metadata": {
  "kernelspec": {
   "display_name": "Python 3",
   "language": "python",
   "name": "python3"
  },
  "language_info": {
   "codemirror_mode": {
    "name": "ipython",
    "version": 3
   },
   "file_extension": ".py",
   "mimetype": "text/x-python",
   "name": "python",
   "nbconvert_exporter": "python",
   "pygments_lexer": "ipython3",
   "version": "3.7.9"
  }
 },
 "nbformat": 4,
 "nbformat_minor": 4
}
