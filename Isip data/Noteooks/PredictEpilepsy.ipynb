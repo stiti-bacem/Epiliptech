{
 "cells": [
  {
   "cell_type": "code",
   "execution_count": 1,
   "metadata": {},
   "outputs": [],
   "source": [
    "import numpy as np\n",
    "import mne\n",
    "import tensorflow as tf"
   ]
  },
  {
   "cell_type": "code",
   "execution_count": 2,
   "metadata": {},
   "outputs": [],
   "source": [
    "DENSE = tf.keras.models.load_model(r\"C:\\Users\\21655\\Desktop\\Projet\\model_DENSE\")"
   ]
  },
  {
   "cell_type": "code",
   "execution_count": 3,
   "metadata": {},
   "outputs": [
    {
     "name": "stdout",
     "output_type": "stream",
     "text": [
      "Extracting EDF parameters from C:\\Users\\21655\\Desktop\\Semestre2\\Projet DS\\data\\edf\\epilepsy\\01_tcp_ar\\005\\00000592\\s004_2011_09_28\\00000592_s004_t000.edf...\n",
      "EDF file detected\n",
      "Setting channel info structure...\n",
      "Creating raw.info structure...\n"
     ]
    }
   ],
   "source": [
    "rec=mne.io.read_raw_edf(r\"C:\\Users\\21655\\Desktop\\Semestre2\\Projet DS\\data\\edf\\epilepsy\\01_tcp_ar\\005\\00000592\\s004_2011_09_28\\00000592_s004_t000.edf\")"
   ]
  },
  {
   "cell_type": "code",
   "execution_count": 4,
   "metadata": {},
   "outputs": [
    {
     "data": {
      "text/plain": [
       "['EEG FP1-REF',\n",
       " 'EEG FP2-REF',\n",
       " 'EEG F3-REF',\n",
       " 'EEG F4-REF',\n",
       " 'EEG C3-REF',\n",
       " 'EEG C4-REF',\n",
       " 'EEG P3-REF',\n",
       " 'EEG P4-REF',\n",
       " 'EEG O1-REF',\n",
       " 'EEG O2-REF',\n",
       " 'EEG F7-REF',\n",
       " 'EEG F8-REF',\n",
       " 'EEG T3-REF',\n",
       " 'EEG T4-REF',\n",
       " 'EEG T5-REF',\n",
       " 'EEG T6-REF',\n",
       " 'EEG A1-REF',\n",
       " 'EEG A2-REF',\n",
       " 'EEG FZ-REF',\n",
       " 'EEG CZ-REF',\n",
       " 'EEG PZ-REF',\n",
       " 'EEG ROC-REF',\n",
       " 'EEG LOC-REF',\n",
       " 'EEG EKG1-REF',\n",
       " 'EMG-REF',\n",
       " 'EEG 26-REF',\n",
       " 'EEG 27-REF',\n",
       " 'EEG 28-REF',\n",
       " 'EEG 29-REF',\n",
       " 'EEG 30-REF',\n",
       " 'EEG T1-REF',\n",
       " 'EEG T2-REF',\n",
       " 'PHOTIC-REF',\n",
       " 'IBI',\n",
       " 'BURSTS',\n",
       " 'SUPPR']"
      ]
     },
     "execution_count": 4,
     "metadata": {},
     "output_type": "execute_result"
    }
   ],
   "source": [
    "rec.ch_names"
   ]
  },
  {
   "cell_type": "code",
   "execution_count": 5,
   "metadata": {},
   "outputs": [],
   "source": [
    "rec=rec.pick_channels(ch_names=['EEG FP1-REF','EEG FP2-REF','EEG F3-REF','EEG F4-REF','EEG C3-REF','EEG C4-REF','EEG P3-REF','EEG P4-REF','EEG O1-REF','EEG O2-REF','EEG F7-REF','EEG F8-REF','EEG T3-REF','EEG T4-REF','EEG T5-REF','EEG T6-REF','EEG A1-REF','EEG A2-REF','EEG FZ-REF','EEG CZ-REF','EEG PZ-REF'])\n",
    "    "
   ]
  },
  {
   "cell_type": "code",
   "execution_count": 6,
   "metadata": {},
   "outputs": [],
   "source": [
    "def momentum (z):\n",
    "    \n",
    "    n_iter = len(z)\n",
    "    beta = 0.9\n",
    "    temp = np.zeros((len(z)))\n",
    "  \n",
    "    for k in range(1,n_iter-1):\n",
    "        temp[k+1] = beta * temp[k] + (1-beta) * z[k] \n",
    "    \n",
    "    return temp\n",
    "  "
   ]
  },
  {
   "cell_type": "code",
   "execution_count": 7,
   "metadata": {},
   "outputs": [],
   "source": [
    "data=rec.get_data()\n",
    "#data"
   ]
  },
  {
   "cell_type": "code",
   "execution_count": 8,
   "metadata": {},
   "outputs": [],
   "source": [
    "#data.shape"
   ]
  },
  {
   "cell_type": "code",
   "execution_count": 9,
   "metadata": {},
   "outputs": [],
   "source": [
    "data_filt = np.zeros((data.shape[0],data.shape[1]))\n",
    "for i in range(data.shape[0]):\n",
    "    data_filt[i] = momentum(data[i])"
   ]
  },
  {
   "cell_type": "code",
   "execution_count": 10,
   "metadata": {},
   "outputs": [],
   "source": [
    "#data_filt"
   ]
  },
  {
   "cell_type": "code",
   "execution_count": 11,
   "metadata": {},
   "outputs": [],
   "source": [
    "rd=data_filt"
   ]
  },
  {
   "cell_type": "code",
   "execution_count": 12,
   "metadata": {},
   "outputs": [],
   "source": [
    "#rd.shape"
   ]
  },
  {
   "cell_type": "code",
   "execution_count": 13,
   "metadata": {},
   "outputs": [],
   "source": [
    "#rd"
   ]
  },
  {
   "cell_type": "code",
   "execution_count": 14,
   "metadata": {},
   "outputs": [],
   "source": [
    "import math\n",
    "win_size = 5000\n",
    "dt_length = math.floor (rd.shape[1] / win_size)"
   ]
  },
  {
   "cell_type": "code",
   "execution_count": 15,
   "metadata": {},
   "outputs": [],
   "source": [
    "#dt_length"
   ]
  },
  {
   "cell_type": "code",
   "execution_count": 16,
   "metadata": {},
   "outputs": [],
   "source": [
    "data=[]\n",
    "for i in range(dt_length):\n",
    "    data.append (rd[:, i*win_size : i*win_size+win_size])"
   ]
  },
  {
   "cell_type": "code",
   "execution_count": 17,
   "metadata": {},
   "outputs": [],
   "source": [
    "#len(data)"
   ]
  },
  {
   "cell_type": "code",
   "execution_count": 18,
   "metadata": {},
   "outputs": [],
   "source": [
    "X = []\n",
    "for j in range(dt_length):\n",
    "    X.append (data[j].reshape(-1,1))"
   ]
  },
  {
   "cell_type": "code",
   "execution_count": 19,
   "metadata": {},
   "outputs": [],
   "source": [
    "X = np.asarray(X)\n",
    "X = X.reshape(X.shape[0], X.shape[1])"
   ]
  },
  {
   "cell_type": "code",
   "execution_count": 20,
   "metadata": {},
   "outputs": [],
   "source": [
    "#X.shape"
   ]
  },
  {
   "cell_type": "code",
   "execution_count": 21,
   "metadata": {},
   "outputs": [
    {
     "data": {
      "text/plain": [
       "array([[0.93915665],\n",
       "       [0.9391528 ],\n",
       "       [0.93915164],\n",
       "       [0.9391618 ],\n",
       "       [0.9391602 ],\n",
       "       [0.9391582 ],\n",
       "       [0.9391571 ],\n",
       "       [0.93915784],\n",
       "       [0.9391526 ],\n",
       "       [0.9391583 ],\n",
       "       [0.9391585 ],\n",
       "       [0.9391812 ],\n",
       "       [0.93915665],\n",
       "       [0.9391655 ],\n",
       "       [0.93915796],\n",
       "       [0.9391515 ],\n",
       "       [0.9391494 ],\n",
       "       [0.93915004],\n",
       "       [0.93915564],\n",
       "       [0.9391595 ],\n",
       "       [0.9391547 ],\n",
       "       [0.9391606 ],\n",
       "       [0.939157  ],\n",
       "       [0.9391555 ],\n",
       "       [0.93915945],\n",
       "       [0.939155  ],\n",
       "       [0.93916035],\n",
       "       [0.93915546],\n",
       "       [0.9391607 ],\n",
       "       [0.9391587 ],\n",
       "       [0.93915355],\n",
       "       [0.93915355],\n",
       "       [0.9391588 ],\n",
       "       [0.9391536 ],\n",
       "       [0.939161  ],\n",
       "       [0.9391579 ],\n",
       "       [0.93916106],\n",
       "       [0.9391644 ],\n",
       "       [0.93915737],\n",
       "       [0.93915766],\n",
       "       [0.93915725],\n",
       "       [0.9391583 ],\n",
       "       [0.9391552 ],\n",
       "       [0.93915665],\n",
       "       [0.93915194],\n",
       "       [0.9391557 ],\n",
       "       [0.9391531 ],\n",
       "       [0.93915325],\n",
       "       [0.9391577 ],\n",
       "       [0.9391544 ],\n",
       "       [0.9391575 ],\n",
       "       [0.93916   ],\n",
       "       [0.93915665],\n",
       "       [0.9391571 ],\n",
       "       [0.9391489 ],\n",
       "       [0.93915844],\n",
       "       [0.9391506 ],\n",
       "       [0.93915194],\n",
       "       [0.93915665],\n",
       "       [0.93915665],\n",
       "       [0.93915987],\n",
       "       [0.93915445],\n",
       "       [0.93915725],\n",
       "       [0.93915594],\n",
       "       [0.93915695],\n",
       "       [0.9391576 ],\n",
       "       [0.939156  ],\n",
       "       [0.93915844],\n",
       "       [0.9391615 ],\n",
       "       [0.9391546 ],\n",
       "       [0.93915755],\n",
       "       [0.939154  ]], dtype=float32)"
      ]
     },
     "execution_count": 21,
     "metadata": {},
     "output_type": "execute_result"
    }
   ],
   "source": [
    "DENSE.predict(X)"
   ]
  },
  {
   "cell_type": "code",
   "execution_count": 22,
   "metadata": {},
   "outputs": [],
   "source": [
    "pred=(DENSE.predict(X) > 0.939156).astype(\"int32\")"
   ]
  },
  {
   "cell_type": "code",
   "execution_count": 23,
   "metadata": {},
   "outputs": [
    {
     "data": {
      "text/plain": [
       "array([[1],\n",
       "       [0],\n",
       "       [0],\n",
       "       [1],\n",
       "       [1],\n",
       "       [1],\n",
       "       [1],\n",
       "       [1],\n",
       "       [0],\n",
       "       [1],\n",
       "       [1],\n",
       "       [1],\n",
       "       [1],\n",
       "       [1],\n",
       "       [1],\n",
       "       [0],\n",
       "       [0],\n",
       "       [0],\n",
       "       [0],\n",
       "       [1],\n",
       "       [0],\n",
       "       [1],\n",
       "       [1],\n",
       "       [0],\n",
       "       [1],\n",
       "       [0],\n",
       "       [1],\n",
       "       [0],\n",
       "       [1],\n",
       "       [1],\n",
       "       [0],\n",
       "       [0],\n",
       "       [1],\n",
       "       [0],\n",
       "       [1],\n",
       "       [1],\n",
       "       [1],\n",
       "       [1],\n",
       "       [1],\n",
       "       [1],\n",
       "       [1],\n",
       "       [1],\n",
       "       [0],\n",
       "       [1],\n",
       "       [0],\n",
       "       [0],\n",
       "       [0],\n",
       "       [0],\n",
       "       [1],\n",
       "       [0],\n",
       "       [1],\n",
       "       [1],\n",
       "       [1],\n",
       "       [1],\n",
       "       [0],\n",
       "       [1],\n",
       "       [0],\n",
       "       [0],\n",
       "       [1],\n",
       "       [1],\n",
       "       [1],\n",
       "       [0],\n",
       "       [1],\n",
       "       [0],\n",
       "       [1],\n",
       "       [1],\n",
       "       [0],\n",
       "       [1],\n",
       "       [1],\n",
       "       [0],\n",
       "       [1],\n",
       "       [0]])"
      ]
     },
     "execution_count": 23,
     "metadata": {},
     "output_type": "execute_result"
    }
   ],
   "source": [
    "pred"
   ]
  },
  {
   "cell_type": "code",
   "execution_count": 24,
   "metadata": {},
   "outputs": [],
   "source": [
    "yes=0\n",
    "no=0\n",
    "for i in range(pred.shape[0]):\n",
    "    if pred[i]==1:\n",
    "        yes=yes+1\n",
    "    else:\n",
    "        no=no+1"
   ]
  },
  {
   "cell_type": "code",
   "execution_count": 25,
   "metadata": {},
   "outputs": [
    {
     "data": {
      "text/plain": [
       "44"
      ]
     },
     "execution_count": 25,
     "metadata": {},
     "output_type": "execute_result"
    }
   ],
   "source": [
    "yes"
   ]
  },
  {
   "cell_type": "code",
   "execution_count": 26,
   "metadata": {},
   "outputs": [
    {
     "data": {
      "text/plain": [
       "28"
      ]
     },
     "execution_count": 26,
     "metadata": {},
     "output_type": "execute_result"
    }
   ],
   "source": [
    "no"
   ]
  },
  {
   "cell_type": "code",
   "execution_count": null,
   "metadata": {},
   "outputs": [],
   "source": []
  },
  {
   "cell_type": "code",
   "execution_count": null,
   "metadata": {},
   "outputs": [],
   "source": []
  }
 ],
 "metadata": {
  "kernelspec": {
   "display_name": "Python 3",
   "language": "python",
   "name": "python3"
  },
  "language_info": {
   "codemirror_mode": {
    "name": "ipython",
    "version": 3
   },
   "file_extension": ".py",
   "mimetype": "text/x-python",
   "name": "python",
   "nbconvert_exporter": "python",
   "pygments_lexer": "ipython3",
   "version": "3.7.9"
  }
 },
 "nbformat": 4,
 "nbformat_minor": 4
}
